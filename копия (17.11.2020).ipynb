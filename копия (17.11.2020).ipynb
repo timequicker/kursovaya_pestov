{
 "cells": [
  {
   "cell_type": "code",
   "execution_count": 1,
   "metadata": {},
   "outputs": [],
   "source": [
    "from mpl_toolkits.mplot3d import Axes3D\n",
    "from sklearn.preprocessing import StandardScaler\n",
    "import matplotlib.pyplot as plt \n",
    "import numpy as np \n",
    "import os \n",
    "\n",
    "import pandas as pd \n",
    "from sklearn.model_selection import train_test_split,  cross_validate, GridSearchCV, RandomizedSearchCV\n",
    "from sklearn.linear_model import LogisticRegression\n",
    "from sklearn import datasets, linear_model\n",
    "from sklearn.metrics import accuracy_score\n",
    "from sklearn.naive_bayes import GaussianNB\n",
    "from sklearn import metrics\n",
    "from sklearn.tree import DecisionTreeClassifier\n",
    "from sklearn.model_selection import StratifiedShuffleSplit\n",
    "from sklearn.ensemble import RandomForestClassifier\n",
    "from sklearn.metrics import classification_report, confusion_matrix, accuracy_score, f1_score, precision_score, make_scorer, recall_score\n",
    "from sklearn.svm import SVC\n",
    "\n",
    "import warnings\n",
    "from time import time\n",
    "from scipy.stats import randint as sp_randint\n",
    "import matplotlib\n",
    "import matplotlib.pyplot as plt\n",
    "from scipy.stats import norm\n",
    "from scipy.stats.kde import gaussian_kde\n",
    "from numpy import linspace,hstack\n",
    "from pylab import plot,show,hist"
   ]
  },
  {
   "cell_type": "markdown",
   "metadata": {},
   "source": [
    "Приготовимся к описанию нашего дата-сета; для начала выведем несколько первых строк с целью убедиться, что набор данных считался и готов к работе."
   ]
  },
  {
   "cell_type": "code",
   "execution_count": 2,
   "metadata": {},
   "outputs": [],
   "source": [
    "DS = pd.read_csv(\"fraud.csv\", delimiter=',')  "
   ]
  },
  {
   "cell_type": "markdown",
   "metadata": {},
   "source": [
    "Выведем первые несколько строк таблицы с набором наших данных:"
   ]
  },
  {
   "cell_type": "code",
   "execution_count": 3,
   "metadata": {
    "scrolled": true
   },
   "outputs": [
    {
     "data": {
      "text/html": [
       "<div>\n",
       "<style scoped>\n",
       "    .dataframe tbody tr th:only-of-type {\n",
       "        vertical-align: middle;\n",
       "    }\n",
       "\n",
       "    .dataframe tbody tr th {\n",
       "        vertical-align: top;\n",
       "    }\n",
       "\n",
       "    .dataframe thead th {\n",
       "        text-align: right;\n",
       "    }\n",
       "</style>\n",
       "<table border=\"1\" class=\"dataframe\">\n",
       "  <thead>\n",
       "    <tr style=\"text-align: right;\">\n",
       "      <th></th>\n",
       "      <th>loanKey</th>\n",
       "      <th>rep_loan_date</th>\n",
       "      <th>first_loan</th>\n",
       "      <th>dpd_5_cnt</th>\n",
       "      <th>dpd_15_cnt</th>\n",
       "      <th>dpd_30_cnt</th>\n",
       "      <th>first_overdue_date</th>\n",
       "      <th>close_loans_cnt</th>\n",
       "      <th>federal_district_nm</th>\n",
       "      <th>TraderKey</th>\n",
       "      <th>...</th>\n",
       "      <th>payment_type_2</th>\n",
       "      <th>payment_type_3</th>\n",
       "      <th>payment_type_4</th>\n",
       "      <th>payment_type_5</th>\n",
       "      <th>past_billings_cnt</th>\n",
       "      <th>score_1</th>\n",
       "      <th>score_2</th>\n",
       "      <th>age</th>\n",
       "      <th>gender</th>\n",
       "      <th>bad_flag</th>\n",
       "    </tr>\n",
       "  </thead>\n",
       "  <tbody>\n",
       "    <tr>\n",
       "      <td>0</td>\n",
       "      <td>307a838f523ff4963ff3d9436b04be90</td>\n",
       "      <td>2016-03-26</td>\n",
       "      <td>2015-09-28</td>\n",
       "      <td>1.0</td>\n",
       "      <td>0.0</td>\n",
       "      <td>0.0</td>\n",
       "      <td>2016-01-30</td>\n",
       "      <td>0.0</td>\n",
       "      <td>region_6</td>\n",
       "      <td>1679091c5a880faf6fb5e6087eb1b2dc</td>\n",
       "      <td>...</td>\n",
       "      <td>6</td>\n",
       "      <td>0</td>\n",
       "      <td>0</td>\n",
       "      <td>0</td>\n",
       "      <td>5.0</td>\n",
       "      <td>NaN</td>\n",
       "      <td>NaN</td>\n",
       "      <td>20.0</td>\n",
       "      <td>False</td>\n",
       "      <td>0</td>\n",
       "    </tr>\n",
       "    <tr>\n",
       "      <td>1</td>\n",
       "      <td>779ad1fcf8fa5a1fb863e725ba02f3ea</td>\n",
       "      <td>2016-10-30</td>\n",
       "      <td>2015-12-21</td>\n",
       "      <td>NaN</td>\n",
       "      <td>NaN</td>\n",
       "      <td>NaN</td>\n",
       "      <td>NaN</td>\n",
       "      <td>2.0</td>\n",
       "      <td>region_1</td>\n",
       "      <td>1679091c5a880faf6fb5e6087eb1b2dc</td>\n",
       "      <td>...</td>\n",
       "      <td>0</td>\n",
       "      <td>5</td>\n",
       "      <td>0</td>\n",
       "      <td>0</td>\n",
       "      <td>5.0</td>\n",
       "      <td>NaN</td>\n",
       "      <td>NaN</td>\n",
       "      <td>19.0</td>\n",
       "      <td>False</td>\n",
       "      <td>0</td>\n",
       "    </tr>\n",
       "    <tr>\n",
       "      <td>2</td>\n",
       "      <td>665d9bb66b1dcb65e89f922ac00f1f45</td>\n",
       "      <td>2016-06-29</td>\n",
       "      <td>2015-06-30</td>\n",
       "      <td>NaN</td>\n",
       "      <td>NaN</td>\n",
       "      <td>NaN</td>\n",
       "      <td>NaN</td>\n",
       "      <td>1.0</td>\n",
       "      <td>region_6</td>\n",
       "      <td>aab3238922bcc25a6f606eb525ffdc56</td>\n",
       "      <td>...</td>\n",
       "      <td>4</td>\n",
       "      <td>0</td>\n",
       "      <td>0</td>\n",
       "      <td>0</td>\n",
       "      <td>6.0</td>\n",
       "      <td>NaN</td>\n",
       "      <td>NaN</td>\n",
       "      <td>21.0</td>\n",
       "      <td>False</td>\n",
       "      <td>0</td>\n",
       "    </tr>\n",
       "    <tr>\n",
       "      <td>3</td>\n",
       "      <td>0af212b8130a0285ca67dfeb57c64a68</td>\n",
       "      <td>2015-12-01</td>\n",
       "      <td>2015-08-03</td>\n",
       "      <td>NaN</td>\n",
       "      <td>NaN</td>\n",
       "      <td>NaN</td>\n",
       "      <td>NaN</td>\n",
       "      <td>0.0</td>\n",
       "      <td>region_5</td>\n",
       "      <td>b6d767d2f8ed5d21a44b0e5886680cb9</td>\n",
       "      <td>...</td>\n",
       "      <td>0</td>\n",
       "      <td>0</td>\n",
       "      <td>0</td>\n",
       "      <td>0</td>\n",
       "      <td>3.0</td>\n",
       "      <td>NaN</td>\n",
       "      <td>NaN</td>\n",
       "      <td>33.0</td>\n",
       "      <td>False</td>\n",
       "      <td>0</td>\n",
       "    </tr>\n",
       "    <tr>\n",
       "      <td>4</td>\n",
       "      <td>5f13b34f42f732620491c282ae56bc23</td>\n",
       "      <td>2016-10-01</td>\n",
       "      <td>2015-08-30</td>\n",
       "      <td>NaN</td>\n",
       "      <td>NaN</td>\n",
       "      <td>NaN</td>\n",
       "      <td>NaN</td>\n",
       "      <td>2.0</td>\n",
       "      <td>region_3</td>\n",
       "      <td>a5771bce93e200c36f7cd9dfd0e5deaa</td>\n",
       "      <td>...</td>\n",
       "      <td>6</td>\n",
       "      <td>0</td>\n",
       "      <td>0</td>\n",
       "      <td>0</td>\n",
       "      <td>5.0</td>\n",
       "      <td>NaN</td>\n",
       "      <td>NaN</td>\n",
       "      <td>34.0</td>\n",
       "      <td>False</td>\n",
       "      <td>0</td>\n",
       "    </tr>\n",
       "  </tbody>\n",
       "</table>\n",
       "<p>5 rows × 22 columns</p>\n",
       "</div>"
      ],
      "text/plain": [
       "                            loanKey rep_loan_date  first_loan  dpd_5_cnt  \\\n",
       "0  307a838f523ff4963ff3d9436b04be90    2016-03-26  2015-09-28        1.0   \n",
       "1  779ad1fcf8fa5a1fb863e725ba02f3ea    2016-10-30  2015-12-21        NaN   \n",
       "2  665d9bb66b1dcb65e89f922ac00f1f45    2016-06-29  2015-06-30        NaN   \n",
       "3  0af212b8130a0285ca67dfeb57c64a68    2015-12-01  2015-08-03        NaN   \n",
       "4  5f13b34f42f732620491c282ae56bc23    2016-10-01  2015-08-30        NaN   \n",
       "\n",
       "   dpd_15_cnt  dpd_30_cnt first_overdue_date  close_loans_cnt  \\\n",
       "0         0.0         0.0         2016-01-30              0.0   \n",
       "1         NaN         NaN                NaN              2.0   \n",
       "2         NaN         NaN                NaN              1.0   \n",
       "3         NaN         NaN                NaN              0.0   \n",
       "4         NaN         NaN                NaN              2.0   \n",
       "\n",
       "  federal_district_nm                         TraderKey  ...  payment_type_2  \\\n",
       "0            region_6  1679091c5a880faf6fb5e6087eb1b2dc  ...               6   \n",
       "1            region_1  1679091c5a880faf6fb5e6087eb1b2dc  ...               0   \n",
       "2            region_6  aab3238922bcc25a6f606eb525ffdc56  ...               4   \n",
       "3            region_5  b6d767d2f8ed5d21a44b0e5886680cb9  ...               0   \n",
       "4            region_3  a5771bce93e200c36f7cd9dfd0e5deaa  ...               6   \n",
       "\n",
       "   payment_type_3  payment_type_4  payment_type_5  past_billings_cnt  score_1  \\\n",
       "0               0               0               0                5.0      NaN   \n",
       "1               5               0               0                5.0      NaN   \n",
       "2               0               0               0                6.0      NaN   \n",
       "3               0               0               0                3.0      NaN   \n",
       "4               0               0               0                5.0      NaN   \n",
       "\n",
       "   score_2   age  gender  bad_flag  \n",
       "0      NaN  20.0   False         0  \n",
       "1      NaN  19.0   False         0  \n",
       "2      NaN  21.0   False         0  \n",
       "3      NaN  33.0   False         0  \n",
       "4      NaN  34.0   False         0  \n",
       "\n",
       "[5 rows x 22 columns]"
      ]
     },
     "execution_count": 3,
     "metadata": {},
     "output_type": "execute_result"
    }
   ],
   "source": [
    "DS.head()"
   ]
  },
  {
   "cell_type": "markdown",
   "metadata": {},
   "source": [
    "Количество полей данных (атрибутов):"
   ]
  },
  {
   "cell_type": "code",
   "execution_count": 4,
   "metadata": {
    "scrolled": true
   },
   "outputs": [
    {
     "data": {
      "text/plain": [
       "(4156, 22)"
      ]
     },
     "execution_count": 4,
     "metadata": {},
     "output_type": "execute_result"
    }
   ],
   "source": [
    "DS.shape"
   ]
  },
  {
   "cell_type": "markdown",
   "metadata": {},
   "source": [
    "Удалим те атрибуты, в которых более 5% отсутствующих значений. Это поля: past_billings_cnt, score_1, first_overdue_date, dpd_30_cnt, dpd_15_cnt, dpd_5_cnt, score_2.           \n",
    "       \n",
    "                "
   ]
  },
  {
   "cell_type": "code",
   "execution_count": 5,
   "metadata": {
    "scrolled": true
   },
   "outputs": [
    {
     "data": {
      "text/html": [
       "<div>\n",
       "<style scoped>\n",
       "    .dataframe tbody tr th:only-of-type {\n",
       "        vertical-align: middle;\n",
       "    }\n",
       "\n",
       "    .dataframe tbody tr th {\n",
       "        vertical-align: top;\n",
       "    }\n",
       "\n",
       "    .dataframe thead th {\n",
       "        text-align: right;\n",
       "    }\n",
       "</style>\n",
       "<table border=\"1\" class=\"dataframe\">\n",
       "  <thead>\n",
       "    <tr style=\"text-align: right;\">\n",
       "      <th></th>\n",
       "      <th>loanKey</th>\n",
       "      <th>rep_loan_date</th>\n",
       "      <th>first_loan</th>\n",
       "      <th>close_loans_cnt</th>\n",
       "      <th>federal_district_nm</th>\n",
       "      <th>TraderKey</th>\n",
       "      <th>payment_type_0</th>\n",
       "      <th>payment_type_1</th>\n",
       "      <th>payment_type_2</th>\n",
       "      <th>payment_type_3</th>\n",
       "      <th>payment_type_4</th>\n",
       "      <th>payment_type_5</th>\n",
       "      <th>age</th>\n",
       "      <th>gender</th>\n",
       "      <th>bad_flag</th>\n",
       "    </tr>\n",
       "  </thead>\n",
       "  <tbody>\n",
       "    <tr>\n",
       "      <td>0</td>\n",
       "      <td>307a838f523ff4963ff3d9436b04be90</td>\n",
       "      <td>2016-03-26</td>\n",
       "      <td>2015-09-28</td>\n",
       "      <td>0.0</td>\n",
       "      <td>region_6</td>\n",
       "      <td>1679091c5a880faf6fb5e6087eb1b2dc</td>\n",
       "      <td>0</td>\n",
       "      <td>0</td>\n",
       "      <td>6</td>\n",
       "      <td>0</td>\n",
       "      <td>0</td>\n",
       "      <td>0</td>\n",
       "      <td>20.0</td>\n",
       "      <td>False</td>\n",
       "      <td>0</td>\n",
       "    </tr>\n",
       "    <tr>\n",
       "      <td>1</td>\n",
       "      <td>779ad1fcf8fa5a1fb863e725ba02f3ea</td>\n",
       "      <td>2016-10-30</td>\n",
       "      <td>2015-12-21</td>\n",
       "      <td>2.0</td>\n",
       "      <td>region_1</td>\n",
       "      <td>1679091c5a880faf6fb5e6087eb1b2dc</td>\n",
       "      <td>0</td>\n",
       "      <td>0</td>\n",
       "      <td>0</td>\n",
       "      <td>5</td>\n",
       "      <td>0</td>\n",
       "      <td>0</td>\n",
       "      <td>19.0</td>\n",
       "      <td>False</td>\n",
       "      <td>0</td>\n",
       "    </tr>\n",
       "    <tr>\n",
       "      <td>2</td>\n",
       "      <td>665d9bb66b1dcb65e89f922ac00f1f45</td>\n",
       "      <td>2016-06-29</td>\n",
       "      <td>2015-06-30</td>\n",
       "      <td>1.0</td>\n",
       "      <td>region_6</td>\n",
       "      <td>aab3238922bcc25a6f606eb525ffdc56</td>\n",
       "      <td>0</td>\n",
       "      <td>0</td>\n",
       "      <td>4</td>\n",
       "      <td>0</td>\n",
       "      <td>0</td>\n",
       "      <td>0</td>\n",
       "      <td>21.0</td>\n",
       "      <td>False</td>\n",
       "      <td>0</td>\n",
       "    </tr>\n",
       "    <tr>\n",
       "      <td>3</td>\n",
       "      <td>0af212b8130a0285ca67dfeb57c64a68</td>\n",
       "      <td>2015-12-01</td>\n",
       "      <td>2015-08-03</td>\n",
       "      <td>0.0</td>\n",
       "      <td>region_5</td>\n",
       "      <td>b6d767d2f8ed5d21a44b0e5886680cb9</td>\n",
       "      <td>0</td>\n",
       "      <td>3</td>\n",
       "      <td>0</td>\n",
       "      <td>0</td>\n",
       "      <td>0</td>\n",
       "      <td>0</td>\n",
       "      <td>33.0</td>\n",
       "      <td>False</td>\n",
       "      <td>0</td>\n",
       "    </tr>\n",
       "    <tr>\n",
       "      <td>4</td>\n",
       "      <td>5f13b34f42f732620491c282ae56bc23</td>\n",
       "      <td>2016-10-01</td>\n",
       "      <td>2015-08-30</td>\n",
       "      <td>2.0</td>\n",
       "      <td>region_3</td>\n",
       "      <td>a5771bce93e200c36f7cd9dfd0e5deaa</td>\n",
       "      <td>0</td>\n",
       "      <td>0</td>\n",
       "      <td>6</td>\n",
       "      <td>0</td>\n",
       "      <td>0</td>\n",
       "      <td>0</td>\n",
       "      <td>34.0</td>\n",
       "      <td>False</td>\n",
       "      <td>0</td>\n",
       "    </tr>\n",
       "    <tr>\n",
       "      <td>...</td>\n",
       "      <td>...</td>\n",
       "      <td>...</td>\n",
       "      <td>...</td>\n",
       "      <td>...</td>\n",
       "      <td>...</td>\n",
       "      <td>...</td>\n",
       "      <td>...</td>\n",
       "      <td>...</td>\n",
       "      <td>...</td>\n",
       "      <td>...</td>\n",
       "      <td>...</td>\n",
       "      <td>...</td>\n",
       "      <td>...</td>\n",
       "      <td>...</td>\n",
       "      <td>...</td>\n",
       "    </tr>\n",
       "    <tr>\n",
       "      <td>4151</td>\n",
       "      <td>cf43bb28e8c5ecf07d8bb32a243d9e39</td>\n",
       "      <td>2016-06-11</td>\n",
       "      <td>2016-05-17</td>\n",
       "      <td>0.0</td>\n",
       "      <td>region_5</td>\n",
       "      <td>8f14e45fceea167a5a36dedd4bea2543</td>\n",
       "      <td>0</td>\n",
       "      <td>0</td>\n",
       "      <td>1</td>\n",
       "      <td>0</td>\n",
       "      <td>0</td>\n",
       "      <td>0</td>\n",
       "      <td>26.0</td>\n",
       "      <td>False</td>\n",
       "      <td>0</td>\n",
       "    </tr>\n",
       "    <tr>\n",
       "      <td>4152</td>\n",
       "      <td>4a31ec1c6d5e4809c4677e873f92b243</td>\n",
       "      <td>2016-08-06</td>\n",
       "      <td>2016-03-11</td>\n",
       "      <td>1.0</td>\n",
       "      <td>region_2</td>\n",
       "      <td>c20ad4d76fe97759aa27a0c99bff6710</td>\n",
       "      <td>0</td>\n",
       "      <td>0</td>\n",
       "      <td>4</td>\n",
       "      <td>0</td>\n",
       "      <td>0</td>\n",
       "      <td>0</td>\n",
       "      <td>38.0</td>\n",
       "      <td>False</td>\n",
       "      <td>1</td>\n",
       "    </tr>\n",
       "    <tr>\n",
       "      <td>4153</td>\n",
       "      <td>4140d1e8424e12c890d439e5472e2deb</td>\n",
       "      <td>2016-09-05</td>\n",
       "      <td>2016-04-30</td>\n",
       "      <td>1.0</td>\n",
       "      <td>region_2</td>\n",
       "      <td>c20ad4d76fe97759aa27a0c99bff6710</td>\n",
       "      <td>0</td>\n",
       "      <td>0</td>\n",
       "      <td>4</td>\n",
       "      <td>0</td>\n",
       "      <td>0</td>\n",
       "      <td>0</td>\n",
       "      <td>21.0</td>\n",
       "      <td>False</td>\n",
       "      <td>0</td>\n",
       "    </tr>\n",
       "    <tr>\n",
       "      <td>4154</td>\n",
       "      <td>8b03ab03763644b74c9c01030209206b</td>\n",
       "      <td>2016-10-14</td>\n",
       "      <td>2016-05-20</td>\n",
       "      <td>0.0</td>\n",
       "      <td>region_6</td>\n",
       "      <td>8f14e45fceea167a5a36dedd4bea2543</td>\n",
       "      <td>0</td>\n",
       "      <td>0</td>\n",
       "      <td>4</td>\n",
       "      <td>0</td>\n",
       "      <td>0</td>\n",
       "      <td>0</td>\n",
       "      <td>35.0</td>\n",
       "      <td>False</td>\n",
       "      <td>0</td>\n",
       "    </tr>\n",
       "    <tr>\n",
       "      <td>4155</td>\n",
       "      <td>728d00b3a9767f56655c9e336b0590b1</td>\n",
       "      <td>2016-06-02</td>\n",
       "      <td>2015-12-08</td>\n",
       "      <td>0.0</td>\n",
       "      <td>region_4</td>\n",
       "      <td>c20ad4d76fe97759aa27a0c99bff6710</td>\n",
       "      <td>0</td>\n",
       "      <td>0</td>\n",
       "      <td>6</td>\n",
       "      <td>0</td>\n",
       "      <td>0</td>\n",
       "      <td>0</td>\n",
       "      <td>25.0</td>\n",
       "      <td>False</td>\n",
       "      <td>1</td>\n",
       "    </tr>\n",
       "  </tbody>\n",
       "</table>\n",
       "<p>4156 rows × 15 columns</p>\n",
       "</div>"
      ],
      "text/plain": [
       "                               loanKey rep_loan_date  first_loan  \\\n",
       "0     307a838f523ff4963ff3d9436b04be90    2016-03-26  2015-09-28   \n",
       "1     779ad1fcf8fa5a1fb863e725ba02f3ea    2016-10-30  2015-12-21   \n",
       "2     665d9bb66b1dcb65e89f922ac00f1f45    2016-06-29  2015-06-30   \n",
       "3     0af212b8130a0285ca67dfeb57c64a68    2015-12-01  2015-08-03   \n",
       "4     5f13b34f42f732620491c282ae56bc23    2016-10-01  2015-08-30   \n",
       "...                                ...           ...         ...   \n",
       "4151  cf43bb28e8c5ecf07d8bb32a243d9e39    2016-06-11  2016-05-17   \n",
       "4152  4a31ec1c6d5e4809c4677e873f92b243    2016-08-06  2016-03-11   \n",
       "4153  4140d1e8424e12c890d439e5472e2deb    2016-09-05  2016-04-30   \n",
       "4154  8b03ab03763644b74c9c01030209206b    2016-10-14  2016-05-20   \n",
       "4155  728d00b3a9767f56655c9e336b0590b1    2016-06-02  2015-12-08   \n",
       "\n",
       "      close_loans_cnt federal_district_nm                         TraderKey  \\\n",
       "0                 0.0            region_6  1679091c5a880faf6fb5e6087eb1b2dc   \n",
       "1                 2.0            region_1  1679091c5a880faf6fb5e6087eb1b2dc   \n",
       "2                 1.0            region_6  aab3238922bcc25a6f606eb525ffdc56   \n",
       "3                 0.0            region_5  b6d767d2f8ed5d21a44b0e5886680cb9   \n",
       "4                 2.0            region_3  a5771bce93e200c36f7cd9dfd0e5deaa   \n",
       "...               ...                 ...                               ...   \n",
       "4151              0.0            region_5  8f14e45fceea167a5a36dedd4bea2543   \n",
       "4152              1.0            region_2  c20ad4d76fe97759aa27a0c99bff6710   \n",
       "4153              1.0            region_2  c20ad4d76fe97759aa27a0c99bff6710   \n",
       "4154              0.0            region_6  8f14e45fceea167a5a36dedd4bea2543   \n",
       "4155              0.0            region_4  c20ad4d76fe97759aa27a0c99bff6710   \n",
       "\n",
       "      payment_type_0  payment_type_1  payment_type_2  payment_type_3  \\\n",
       "0                  0               0               6               0   \n",
       "1                  0               0               0               5   \n",
       "2                  0               0               4               0   \n",
       "3                  0               3               0               0   \n",
       "4                  0               0               6               0   \n",
       "...              ...             ...             ...             ...   \n",
       "4151               0               0               1               0   \n",
       "4152               0               0               4               0   \n",
       "4153               0               0               4               0   \n",
       "4154               0               0               4               0   \n",
       "4155               0               0               6               0   \n",
       "\n",
       "      payment_type_4  payment_type_5   age  gender  bad_flag  \n",
       "0                  0               0  20.0   False         0  \n",
       "1                  0               0  19.0   False         0  \n",
       "2                  0               0  21.0   False         0  \n",
       "3                  0               0  33.0   False         0  \n",
       "4                  0               0  34.0   False         0  \n",
       "...              ...             ...   ...     ...       ...  \n",
       "4151               0               0  26.0   False         0  \n",
       "4152               0               0  38.0   False         1  \n",
       "4153               0               0  21.0   False         0  \n",
       "4154               0               0  35.0   False         0  \n",
       "4155               0               0  25.0   False         1  \n",
       "\n",
       "[4156 rows x 15 columns]"
      ]
     },
     "execution_count": 5,
     "metadata": {},
     "output_type": "execute_result"
    }
   ],
   "source": [
    "del DS['past_billings_cnt']\n",
    "del DS['score_1']\n",
    "del DS['first_overdue_date']\n",
    "del DS['dpd_30_cnt']\n",
    "del DS['dpd_15_cnt']\n",
    "del DS['dpd_5_cnt']\n",
    "del DS['score_2']\n",
    "DS"
   ]
  },
  {
   "cell_type": "markdown",
   "metadata": {},
   "source": [
    "С таким же успехом можно удалить другим способом ещё 4 категориальных атрибута, которые не влияют на распознавание \"подозрительности\" тразакции: это их ID-коды, регион, где совершался платёж, а также \"битый\" столбец с полом, где все значения указаны как \"False\"."
   ]
  },
  {
   "cell_type": "code",
   "execution_count": 6,
   "metadata": {
    "scrolled": false
   },
   "outputs": [
    {
     "data": {
      "text/html": [
       "<div>\n",
       "<style scoped>\n",
       "    .dataframe tbody tr th:only-of-type {\n",
       "        vertical-align: middle;\n",
       "    }\n",
       "\n",
       "    .dataframe tbody tr th {\n",
       "        vertical-align: top;\n",
       "    }\n",
       "\n",
       "    .dataframe thead th {\n",
       "        text-align: right;\n",
       "    }\n",
       "</style>\n",
       "<table border=\"1\" class=\"dataframe\">\n",
       "  <thead>\n",
       "    <tr style=\"text-align: right;\">\n",
       "      <th></th>\n",
       "      <th>close_loans_cnt</th>\n",
       "      <th>payment_type_0</th>\n",
       "      <th>payment_type_1</th>\n",
       "      <th>payment_type_2</th>\n",
       "      <th>payment_type_3</th>\n",
       "      <th>payment_type_4</th>\n",
       "      <th>payment_type_5</th>\n",
       "      <th>age</th>\n",
       "      <th>bad_flag</th>\n",
       "    </tr>\n",
       "  </thead>\n",
       "  <tbody>\n",
       "    <tr>\n",
       "      <td>0</td>\n",
       "      <td>0.0</td>\n",
       "      <td>0</td>\n",
       "      <td>0</td>\n",
       "      <td>6</td>\n",
       "      <td>0</td>\n",
       "      <td>0</td>\n",
       "      <td>0</td>\n",
       "      <td>20.0</td>\n",
       "      <td>0</td>\n",
       "    </tr>\n",
       "    <tr>\n",
       "      <td>1</td>\n",
       "      <td>2.0</td>\n",
       "      <td>0</td>\n",
       "      <td>0</td>\n",
       "      <td>0</td>\n",
       "      <td>5</td>\n",
       "      <td>0</td>\n",
       "      <td>0</td>\n",
       "      <td>19.0</td>\n",
       "      <td>0</td>\n",
       "    </tr>\n",
       "    <tr>\n",
       "      <td>2</td>\n",
       "      <td>1.0</td>\n",
       "      <td>0</td>\n",
       "      <td>0</td>\n",
       "      <td>4</td>\n",
       "      <td>0</td>\n",
       "      <td>0</td>\n",
       "      <td>0</td>\n",
       "      <td>21.0</td>\n",
       "      <td>0</td>\n",
       "    </tr>\n",
       "    <tr>\n",
       "      <td>3</td>\n",
       "      <td>0.0</td>\n",
       "      <td>0</td>\n",
       "      <td>3</td>\n",
       "      <td>0</td>\n",
       "      <td>0</td>\n",
       "      <td>0</td>\n",
       "      <td>0</td>\n",
       "      <td>33.0</td>\n",
       "      <td>0</td>\n",
       "    </tr>\n",
       "    <tr>\n",
       "      <td>4</td>\n",
       "      <td>2.0</td>\n",
       "      <td>0</td>\n",
       "      <td>0</td>\n",
       "      <td>6</td>\n",
       "      <td>0</td>\n",
       "      <td>0</td>\n",
       "      <td>0</td>\n",
       "      <td>34.0</td>\n",
       "      <td>0</td>\n",
       "    </tr>\n",
       "    <tr>\n",
       "      <td>...</td>\n",
       "      <td>...</td>\n",
       "      <td>...</td>\n",
       "      <td>...</td>\n",
       "      <td>...</td>\n",
       "      <td>...</td>\n",
       "      <td>...</td>\n",
       "      <td>...</td>\n",
       "      <td>...</td>\n",
       "      <td>...</td>\n",
       "    </tr>\n",
       "    <tr>\n",
       "      <td>4151</td>\n",
       "      <td>0.0</td>\n",
       "      <td>0</td>\n",
       "      <td>0</td>\n",
       "      <td>1</td>\n",
       "      <td>0</td>\n",
       "      <td>0</td>\n",
       "      <td>0</td>\n",
       "      <td>26.0</td>\n",
       "      <td>0</td>\n",
       "    </tr>\n",
       "    <tr>\n",
       "      <td>4152</td>\n",
       "      <td>1.0</td>\n",
       "      <td>0</td>\n",
       "      <td>0</td>\n",
       "      <td>4</td>\n",
       "      <td>0</td>\n",
       "      <td>0</td>\n",
       "      <td>0</td>\n",
       "      <td>38.0</td>\n",
       "      <td>1</td>\n",
       "    </tr>\n",
       "    <tr>\n",
       "      <td>4153</td>\n",
       "      <td>1.0</td>\n",
       "      <td>0</td>\n",
       "      <td>0</td>\n",
       "      <td>4</td>\n",
       "      <td>0</td>\n",
       "      <td>0</td>\n",
       "      <td>0</td>\n",
       "      <td>21.0</td>\n",
       "      <td>0</td>\n",
       "    </tr>\n",
       "    <tr>\n",
       "      <td>4154</td>\n",
       "      <td>0.0</td>\n",
       "      <td>0</td>\n",
       "      <td>0</td>\n",
       "      <td>4</td>\n",
       "      <td>0</td>\n",
       "      <td>0</td>\n",
       "      <td>0</td>\n",
       "      <td>35.0</td>\n",
       "      <td>0</td>\n",
       "    </tr>\n",
       "    <tr>\n",
       "      <td>4155</td>\n",
       "      <td>0.0</td>\n",
       "      <td>0</td>\n",
       "      <td>0</td>\n",
       "      <td>6</td>\n",
       "      <td>0</td>\n",
       "      <td>0</td>\n",
       "      <td>0</td>\n",
       "      <td>25.0</td>\n",
       "      <td>1</td>\n",
       "    </tr>\n",
       "  </tbody>\n",
       "</table>\n",
       "<p>4156 rows × 9 columns</p>\n",
       "</div>"
      ],
      "text/plain": [
       "      close_loans_cnt  payment_type_0  payment_type_1  payment_type_2  \\\n",
       "0                 0.0               0               0               6   \n",
       "1                 2.0               0               0               0   \n",
       "2                 1.0               0               0               4   \n",
       "3                 0.0               0               3               0   \n",
       "4                 2.0               0               0               6   \n",
       "...               ...             ...             ...             ...   \n",
       "4151              0.0               0               0               1   \n",
       "4152              1.0               0               0               4   \n",
       "4153              1.0               0               0               4   \n",
       "4154              0.0               0               0               4   \n",
       "4155              0.0               0               0               6   \n",
       "\n",
       "      payment_type_3  payment_type_4  payment_type_5   age  bad_flag  \n",
       "0                  0               0               0  20.0         0  \n",
       "1                  5               0               0  19.0         0  \n",
       "2                  0               0               0  21.0         0  \n",
       "3                  0               0               0  33.0         0  \n",
       "4                  0               0               0  34.0         0  \n",
       "...              ...             ...             ...   ...       ...  \n",
       "4151               0               0               0  26.0         0  \n",
       "4152               0               0               0  38.0         1  \n",
       "4153               0               0               0  21.0         0  \n",
       "4154               0               0               0  35.0         0  \n",
       "4155               0               0               0  25.0         1  \n",
       "\n",
       "[4156 rows x 9 columns]"
      ]
     },
     "execution_count": 6,
     "metadata": {},
     "output_type": "execute_result"
    }
   ],
   "source": [
    "DS = DS.drop(['first_loan','loanKey', 'rep_loan_date', 'TraderKey','federal_district_nm','gender'],axis = 1)\n",
    "DS"
   ]
  },
  {
   "cell_type": "code",
   "execution_count": 7,
   "metadata": {},
   "outputs": [
    {
     "data": {
      "text/plain": [
       "(4156, 9)"
      ]
     },
     "execution_count": 7,
     "metadata": {},
     "output_type": "execute_result"
    }
   ],
   "source": [
    "DS.shape"
   ]
  },
  {
   "cell_type": "markdown",
   "metadata": {},
   "source": [
    "# 2. Разделение набора данных на обучающую и тестовую выборки. "
   ]
  },
  {
   "cell_type": "markdown",
   "metadata": {},
   "source": [
    "Машинное обучение по своему определнию представляет собой обучение выделению некоторых свойств выборки данных и их применение на новых данных. Поэтому, исходя из общепринятой практики оценки алгоритма в машинном обучении, на втором этапе работы над курсовой необходимо вручную разбить данные на два отдельных набора. Первый — обучающая выборка, на которой будут изучаться свойства данных, а второй — тестовая выборка, на которой выделенные свойства будут тестироваться."
   ]
  },
  {
   "cell_type": "markdown",
   "metadata": {},
   "source": [
    "В процессе разделения будет использован случайный метод, который к тому же работает по умолчанию. Прочие методы было решено не использовать в силу специфики задачи. "
   ]
  },
  {
   "cell_type": "markdown",
   "metadata": {},
   "source": [
    "Разделим набор данных на обучающую и тестовую выборки с помощью метода train_test_split, но сначала превратим дата-сет во фрейм данных и определим имена его столбцов:"
   ]
  },
  {
   "cell_type": "code",
   "execution_count": 11,
   "metadata": {},
   "outputs": [],
   "source": [
    "columns = \"payment_type_0 payment_type_1 payment_type_2 payment_type_3 payment_type_4 payment_type_5 age\".split() \n",
    "# объявляем имена необходимых (несущих информационную нагрузку) столбцов для работы над выборками\n",
    "x = pd.DataFrame(DS, columns = columns)\n",
    "y = DS.bad_flag # определяем целевую перменную как \"y\""
   ]
  },
  {
   "cell_type": "markdown",
   "metadata": {},
   "source": [
    "Теперь мы можем использовать функцию train_test_split для разделения набора данных на обучающую и тестовую выборки.\n",
    "\n",
    "Пусть параметр test_size = 0,2 внутри функции указывает процент данных, которые должны быть сохранены для тестирования. \n",
    "Обычно это соотношения около 80/20 или 70/30. Разбиение данных на две этих выборки выглядит следующим образом:"
   ]
  },
  {
   "cell_type": "code",
   "execution_count": 17,
   "metadata": {},
   "outputs": [],
   "source": [
    "x_train, x_test, y_train, y_test = train_test_split(x, y, test_size = 0.2)"
   ]
  },
  {
   "cell_type": "code",
   "execution_count": 18,
   "metadata": {},
   "outputs": [
    {
     "data": {
      "text/plain": [
       "(3324, 7)"
      ]
     },
     "execution_count": 18,
     "metadata": {},
     "output_type": "execute_result"
    }
   ],
   "source": [
    "x_train.shape"
   ]
  },
  {
   "cell_type": "code",
   "execution_count": 19,
   "metadata": {},
   "outputs": [
    {
     "data": {
      "text/plain": [
       "(3324,)"
      ]
     },
     "execution_count": 19,
     "metadata": {},
     "output_type": "execute_result"
    }
   ],
   "source": [
    "y_train.shape"
   ]
  },
  {
   "cell_type": "code",
   "execution_count": 20,
   "metadata": {},
   "outputs": [
    {
     "data": {
      "text/plain": [
       "(832, 7)"
      ]
     },
     "execution_count": 20,
     "metadata": {},
     "output_type": "execute_result"
    }
   ],
   "source": [
    "x_test.shape"
   ]
  },
  {
   "cell_type": "code",
   "execution_count": 21,
   "metadata": {},
   "outputs": [
    {
     "data": {
      "text/plain": [
       "(832,)"
      ]
     },
     "execution_count": 21,
     "metadata": {},
     "output_type": "execute_result"
    }
   ],
   "source": [
    "y_test.shape"
   ]
  },
  {
   "cell_type": "markdown",
   "metadata": {},
   "source": [
    "# 3. Обучение нескольких моделей для решения выбранной задачи.\n",
    "## 3.1 Алгоритм наивного байесовского классификатора."
   ]
  },
  {
   "cell_type": "markdown",
   "metadata": {},
   "source": [
    "Первой моделью решения задачи выступит алгоритм наивного Байесовского классификатора. Он, к тому же, считается одним из самых простых алгоритмов классификации. При этом ему удаётся работать не хуже, а то и лучше некоторых более сложных алгоритмов.\n",
    "\n",
    "Здесь мы собираемся использовать модель GaussianNB, которая доступна в библиотеке Sckit-learn. Создание нашей наивной байесовской модели будет возможным с использованием метода GaussianNB():"
   ]
  },
  {
   "cell_type": "code",
   "execution_count": 37,
   "metadata": {},
   "outputs": [],
   "source": [
    "NBC = GaussianNB()\n",
    "NBC_2 = NBC.fit(x, y)"
   ]
  },
  {
   "cell_type": "markdown",
   "metadata": {},
   "source": [
    "Сделаем прогнозы на основе разделения данных на целевую переменную и прочие:"
   ]
  },
  {
   "cell_type": "code",
   "execution_count": 38,
   "metadata": {},
   "outputs": [],
   "source": [
    "expected = y\n",
    "predicted = NBC.predict(x)"
   ]
  },
  {
   "cell_type": "markdown",
   "metadata": {},
   "source": [
    "Что касается получения точности и статистики, то теперь имеет смысл создать отчёт о классификации, который будет содержать различные статистические данные, необходимые для оценки модели. И перед переходом к анализу метрик необходимо будет ввести важную концепцию для описания этих метрик в терминах ошибок классификации, а именно — confusion matrix (матрицу ошибок), которая имеет следующий вид:"
   ]
  },
  {
   "cell_type": "markdown",
   "metadata": {},
   "source": [
    "![вид матрицы ошибок](https://sun9-24.userapi.com/BUpDzkAT__m1qptu5UFb6C60IAGpDND8ACsrfg/phRujTtXcwE.jpg \"вид матрицы ошибок\")"
   ]
  },
  {
   "cell_type": "markdown",
   "metadata": {},
   "source": [
    "Здесь $ŷ$ — это ответ алгоритма на объекте, а $y$ — истинная метка класса на этом объекте.\n",
    "Таким образом, ошибки классификации бывают двух видов: False Negative (FN) и False Positive (FP)."
   ]
  },
  {
   "cell_type": "markdown",
   "metadata": {},
   "source": [
    "#### Матрица ошибок:"
   ]
  },
  {
   "cell_type": "code",
   "execution_count": 39,
   "metadata": {},
   "outputs": [
    {
     "name": "stdout",
     "output_type": "stream",
     "text": [
      "[[3702   37]\n",
      " [ 413    4]]\n"
     ]
    }
   ],
   "source": [
    "print(metrics.confusion_matrix(expected, predicted))"
   ]
  },
  {
   "cell_type": "markdown",
   "metadata": {},
   "source": [
    "Интуитивно понятной, очевидной (и почти неиспользуемой) метрикой является $accuracy$ — доля правильных ответов алгоритма.\n",
    "Для оценки качества работы алгоритма также введём метрики $precision$ (точность) и $recall$ (полнота). $Precision$ можно интерпретировать как долю объектов, названных классификатором положительными и при этом действительно являющимися положительными, а $recall$ показывает, какую долю объектов положительного класса из всех объектов положительного класса нашел алгоритм."
   ]
  },
  {
   "cell_type": "markdown",
   "metadata": {},
   "source": [
    "#### Классификационный отчет:"
   ]
  },
  {
   "cell_type": "code",
   "execution_count": 40,
   "metadata": {
    "scrolled": true
   },
   "outputs": [
    {
     "name": "stdout",
     "output_type": "stream",
     "text": [
      "              precision    recall  f1-score   support\n",
      "\n",
      "           0       0.90      0.99      0.94      3739\n",
      "           1       0.10      0.01      0.02       417\n",
      "\n",
      "    accuracy                           0.89      4156\n",
      "   macro avg       0.50      0.50      0.48      4156\n",
      "weighted avg       0.82      0.89      0.85      4156\n",
      "\n"
     ]
    }
   ],
   "source": [
    "print(metrics.classification_report(expected, predicted))"
   ]
  },
  {
   "cell_type": "markdown",
   "metadata": {},
   "source": [
    "Оценка точности по тренировочной выборке:"
   ]
  },
  {
   "cell_type": "code",
   "execution_count": 47,
   "metadata": {
    "scrolled": true
   },
   "outputs": [
    {
     "data": {
      "text/plain": [
       "0.8895908543922985"
      ]
     },
     "metadata": {},
     "output_type": "display_data"
    }
   ],
   "source": [
    "display(NBC.score(x_train, y_train)) "
   ]
  },
  {
   "cell_type": "markdown",
   "metadata": {},
   "source": [
    "Оценка точности по тестовой выборке:"
   ]
  },
  {
   "cell_type": "code",
   "execution_count": 48,
   "metadata": {},
   "outputs": [
    {
     "data": {
      "text/plain": [
       "0.9002403846153846"
      ]
     },
     "metadata": {},
     "output_type": "display_data"
    }
   ],
   "source": [
    "display(NBC.score(x_test, y_test))"
   ]
  },
  {
   "cell_type": "markdown",
   "metadata": {},
   "source": [
    "## 3.2 Алгоритм итеративного дихотомизатора (ID3) (05-6/11)"
   ]
  },
  {
   "cell_type": "markdown",
   "metadata": {},
   "source": [
    "Алгоритм итеративного дихотомизатора является одним из самых популярных алгоритмов, подразумевающих собой построение дерева решений. В данных методах сначала строится модель решений, которые принимаются на основе фактических значений атрибутов в данных. Решения распадаются на древовидные структуры до тех пор, пока не будет принято прогнозирующее решение для данной записи. Деревья решений обучаются на данных для задач классификации и регрессии. Деревья решений часто бывают быстрыми и точными и пользуются большой популярностью в машинном обучении."
   ]
  },
  {
   "cell_type": "code",
   "execution_count": 49,
   "metadata": {},
   "outputs": [],
   "source": [
    "x_train, x_test, y_train, y_test = train_test_split(x, y, test_size = 0.2)\n",
    "ID3 = DecisionTreeClassifier()\n",
    "ID3_fit = ID3.fit(x_train, y_train)\n",
    "\n",
    "def tn(y_true, y_pred): return confusion_matrix(y_true, y_pred)[0, 0] # true_negative\n",
    "def fp(y_true, y_pred): return confusion_matrix(y_true, y_pred)[0, 1] # false_positive\n",
    "def fn(y_true, y_pred): return confusion_matrix(y_true, y_pred)[1, 0] # false_negative\n",
    "def tp(y_true, y_pred): return confusion_matrix(y_true, y_pred)[1, 1] # true_positive\n",
    "\n",
    "scoring = {\n",
    "    'tp' : make_scorer(tp), \n",
    "    'tn' : make_scorer(tn), \n",
    "    'fp' : make_scorer(fp), \n",
    "    'fn' : make_scorer(fn), \n",
    "    'accuracy' : make_scorer(accuracy_score),\n",
    "    'precision': make_scorer(precision_score),\n",
    "    'f1_score' : make_scorer(f1_score),\n",
    "    'recall'   : make_scorer(recall_score)\n",
    "}\n",
    "\n",
    "sc = cross_validate(ID3_fit, x_train, y_train, cv = 5, scoring = scoring)"
   ]
  },
  {
   "cell_type": "code",
   "execution_count": 50,
   "metadata": {},
   "outputs": [],
   "source": [
    "expected_1 = y\n",
    "predicted_1 = ID3_fit.predict(x)"
   ]
  },
  {
   "cell_type": "markdown",
   "metadata": {},
   "source": [
    "#### Матрица ошибок:"
   ]
  },
  {
   "cell_type": "code",
   "execution_count": 52,
   "metadata": {},
   "outputs": [
    {
     "name": "stdout",
     "output_type": "stream",
     "text": [
      "[[3706   33]\n",
      " [ 310  107]]\n"
     ]
    }
   ],
   "source": [
    "print(metrics.confusion_matrix(expected_1, predicted_1))"
   ]
  },
  {
   "cell_type": "markdown",
   "metadata": {},
   "source": [
    "#### Классификационный отчет:"
   ]
  },
  {
   "cell_type": "code",
   "execution_count": 53,
   "metadata": {
    "scrolled": true
   },
   "outputs": [
    {
     "name": "stdout",
     "output_type": "stream",
     "text": [
      "              precision    recall  f1-score   support\n",
      "\n",
      "           0       0.92      0.99      0.96      3739\n",
      "           1       0.76      0.26      0.38       417\n",
      "\n",
      "    accuracy                           0.92      4156\n",
      "   macro avg       0.84      0.62      0.67      4156\n",
      "weighted avg       0.91      0.92      0.90      4156\n",
      "\n"
     ]
    }
   ],
   "source": [
    "print(metrics.classification_report(expected_1, predicted_1))"
   ]
  },
  {
   "cell_type": "markdown",
   "metadata": {},
   "source": [
    "Оценка точности по обучающей выборке:"
   ]
  },
  {
   "cell_type": "code",
   "execution_count": 58,
   "metadata": {},
   "outputs": [
    {
     "data": {
      "text/plain": [
       "0.9262936221419976"
      ]
     },
     "metadata": {},
     "output_type": "display_data"
    }
   ],
   "source": [
    "display(ID3.score(x_train, y_train))"
   ]
  },
  {
   "cell_type": "markdown",
   "metadata": {},
   "source": [
    "Оценка точности по тестовой выборке:"
   ]
  },
  {
   "cell_type": "code",
   "execution_count": 59,
   "metadata": {},
   "outputs": [
    {
     "data": {
      "text/plain": [
       "0.8822115384615384"
      ]
     },
     "metadata": {},
     "output_type": "display_data"
    }
   ],
   "source": [
    "display(ID3.score(x_test, y_test))"
   ]
  },
  {
   "cell_type": "markdown",
   "metadata": {},
   "source": [
    "# 4. Выбор наиболее перспективной модели для решения поставленной задачи. Поиск оптимальных гиперпараметров (06/11)."
   ]
  },
  {
   "cell_type": "code",
   "execution_count": 53,
   "metadata": {},
   "outputs": [],
   "source": [
    "# Не совсем понимаю, какая из моделей (наивный байес или ID3) является более перспективной. \n",
    "# судя по оценке точности тестовой выборки, которая более важна, как Вы сказали, перспективнее воспользоваться Байесом.\n",
    "# но Вы также говорили, что по нему плохой результат получился. поэтому я в тупике"
   ]
  },
  {
   "cell_type": "markdown",
   "metadata": {},
   "source": [
    "Один из способов настройки гиперпараметров состоит в том, чтобы заставить компьютер попробовать все возможные комбинации значений параметров. Для этого используем модуль GridSearchCV из библиотеки Scikit Learn. Попытаемся найти наилучшую комбинацию гиперпараметров (C, Gamma и Kernel) для построения классификатора для нашего набора данных."
   ]
  },
  {
   "cell_type": "code",
   "execution_count": null,
   "metadata": {},
   "outputs": [],
   "source": [
    "# Какие гиперпараметры Вы бы посоветовали мне поискать? (1)\n",
    "\n",
    "# И правильно ли я понимаю, что нужно перед их поиском описывать каждый из них и причину, по которой мы именно его ищем?\n",
    "\n",
    "# Какую выборку мне нужно использовать для работы с методами поиска гиперпараметров? (3)"
   ]
  },
  {
   "cell_type": "markdown",
   "metadata": {},
   "source": [
    "### Метод GridSearch"
   ]
  },
  {
   "cell_type": "code",
   "execution_count": 107,
   "metadata": {},
   "outputs": [
    {
     "name": "stdout",
     "output_type": "stream",
     "text": [
      "Оптимальные гиперпараметры:\n",
      "{'C': 100, 'gamma': 0.0001, 'kernel': 'sigmoid'}\n",
      "Grid-метрики:\n",
      "0.449 for {'C': 1, 'gamma': 0.001, 'kernel': 'rbf'}\n",
      "0.477 for {'C': 1, 'gamma': 0.001, 'kernel': 'sigmoid'}\n",
      "0.449 for {'C': 1, 'gamma': 0.001, 'kernel': 'linear'}\n",
      "0.449 for {'C': 1, 'gamma': 0.0001, 'kernel': 'rbf'}\n",
      "0.449 for {'C': 1, 'gamma': 0.0001, 'kernel': 'sigmoid'}\n",
      "0.449 for {'C': 1, 'gamma': 0.0001, 'kernel': 'linear'}\n",
      "0.449 for {'C': 1, 'gamma': 0.01, 'kernel': 'rbf'}\n",
      "0.449 for {'C': 1, 'gamma': 0.01, 'kernel': 'sigmoid'}\n",
      "0.449 for {'C': 1, 'gamma': 0.01, 'kernel': 'linear'}\n",
      "0.449 for {'C': 10, 'gamma': 0.001, 'kernel': 'rbf'}\n",
      "0.477 for {'C': 10, 'gamma': 0.001, 'kernel': 'sigmoid'}\n",
      "0.449 for {'C': 10, 'gamma': 0.001, 'kernel': 'linear'}\n",
      "0.449 for {'C': 10, 'gamma': 0.0001, 'kernel': 'rbf'}\n",
      "0.449 for {'C': 10, 'gamma': 0.0001, 'kernel': 'sigmoid'}\n",
      "0.449 for {'C': 10, 'gamma': 0.0001, 'kernel': 'linear'}\n",
      "0.449 for {'C': 10, 'gamma': 0.01, 'kernel': 'rbf'}\n",
      "0.449 for {'C': 10, 'gamma': 0.01, 'kernel': 'sigmoid'}\n",
      "0.449 for {'C': 10, 'gamma': 0.01, 'kernel': 'linear'}\n",
      "0.449 for {'C': 100, 'gamma': 0.001, 'kernel': 'rbf'}\n",
      "0.477 for {'C': 100, 'gamma': 0.001, 'kernel': 'sigmoid'}\n",
      "0.449 for {'C': 100, 'gamma': 0.001, 'kernel': 'linear'}\n",
      "0.449 for {'C': 100, 'gamma': 0.0001, 'kernel': 'rbf'}\n",
      "0.570 for {'C': 100, 'gamma': 0.0001, 'kernel': 'sigmoid'}\n",
      "0.449 for {'C': 100, 'gamma': 0.0001, 'kernel': 'linear'}\n",
      "0.449 for {'C': 100, 'gamma': 0.01, 'kernel': 'rbf'}\n",
      "0.449 for {'C': 100, 'gamma': 0.01, 'kernel': 'sigmoid'}\n",
      "0.449 for {'C': 100, 'gamma': 0.01, 'kernel': 'linear'}\n",
      "0.449 for {'C': 1000, 'gamma': 0.001, 'kernel': 'rbf'}\n",
      "0.477 for {'C': 1000, 'gamma': 0.001, 'kernel': 'sigmoid'}\n",
      "0.449 for {'C': 1000, 'gamma': 0.001, 'kernel': 'linear'}\n",
      "0.449 for {'C': 1000, 'gamma': 0.0001, 'kernel': 'rbf'}\n",
      "0.563 for {'C': 1000, 'gamma': 0.0001, 'kernel': 'sigmoid'}\n",
      "0.449 for {'C': 1000, 'gamma': 0.0001, 'kernel': 'linear'}\n",
      "0.499 for {'C': 1000, 'gamma': 0.01, 'kernel': 'rbf'}\n",
      "0.449 for {'C': 1000, 'gamma': 0.01, 'kernel': 'sigmoid'}\n",
      "0.449 for {'C': 1000, 'gamma': 0.01, 'kernel': 'linear'}\n"
     ]
    }
   ],
   "source": [
    "warnings.filterwarnings(\"ignore\")\n",
    "\n",
    "x_train, x_test, y_train, y_test = train_test_split(x, y, test_size = 0.2)\n",
    "tuned_parameters = [{'kernel': ['rbf','sigmoid', 'linear'], 'gamma': [1e-3, 1e-4, 1e-2], 'C': [1, 10, 100, 1000]}] # (1)\n",
    "scores = ['precision'] \n",
    "\n",
    "clf = GridSearchCV(SVC(), tuned_parameters, cv=5, scoring='%s_macro' % scores[0])\n",
    "clf.fit(x_train, y_train) # (3)\n",
    "\n",
    "print(\"Оптимальные гиперпараметры:\")\n",
    "print(clf.best_params_)\n",
    "\n",
    "print(\"Grid-метрики:\")\n",
    "means = clf.cv_results_['mean_test_score']\n",
    "for mean,params in zip(means, clf.cv_results_['params']):\n",
    "    print(\"%0.3f for %r\" % (mean, params))"
   ]
  },
  {
   "cell_type": "markdown",
   "metadata": {},
   "source": [
    "Приведенный выше код перебирает силу и пробует каждую возможную комбинацию этих трех гиперпараметров, а затем выводит наилучшую комбинацию.\n",
    "\n",
    "Плюсы: Этот метод получит требуемые оптимальные гиперпараметры.\n",
    "\n",
    "Минусы: Это исчерпывающая операция. Если диапазон или число гиперпараметров велики, возможности могут исчисляться миллионами, и на завершение потребуется довольно много времени. "
   ]
  },
  {
   "cell_type": "markdown",
   "metadata": {},
   "source": [
    "Также можем опробовать случайный поиск. Как следует из названия, он будет пытаться случайным образом выбрать заранее определенное количество комбинаций гиперпараметров, которые дадут некоторое представление о том, какие из них будут оптимальными."
   ]
  },
  {
   "cell_type": "markdown",
   "metadata": {},
   "source": [
    "### Метод случайного поиска"
   ]
  },
  {
   "cell_type": "code",
   "execution_count": 60,
   "metadata": {},
   "outputs": [
    {
     "name": "stdout",
     "output_type": "stream",
     "text": [
      "Метод случайного поиска занял 1.32 секунд для нахождения 10 следующих гиперпараметров:\n",
      "0.907 (+/-0.005) for {'bootstrap': False, 'criterion': 'gini', 'max_depth': 3, 'min_samples_split': 4}\n",
      "0.909 (+/-0.004) for {'bootstrap': True, 'criterion': 'entropy', 'max_depth': 2, 'min_samples_split': 8}\n",
      "0.909 (+/-0.004) for {'bootstrap': False, 'criterion': 'entropy', 'max_depth': 3, 'min_samples_split': 8}\n",
      "0.909 (+/-0.004) for {'bootstrap': False, 'criterion': 'gini', 'max_depth': 2, 'min_samples_split': 9}\n",
      "0.907 (+/-0.005) for {'bootstrap': False, 'criterion': 'gini', 'max_depth': 4, 'min_samples_split': 5}\n",
      "0.907 (+/-0.005) for {'bootstrap': False, 'criterion': 'gini', 'max_depth': 3, 'min_samples_split': 6}\n",
      "0.907 (+/-0.005) for {'bootstrap': False, 'criterion': 'gini', 'max_depth': 3, 'min_samples_split': 8}\n",
      "0.909 (+/-0.004) for {'bootstrap': False, 'criterion': 'entropy', 'max_depth': 4, 'min_samples_split': 7}\n",
      "0.909 (+/-0.004) for {'bootstrap': True, 'criterion': 'gini', 'max_depth': 2, 'min_samples_split': 7}\n",
      "0.909 (+/-0.004) for {'bootstrap': True, 'criterion': 'gini', 'max_depth': 2, 'min_samples_split': 9}\n"
     ]
    }
   ],
   "source": [
    "rfc = RandomForestClassifier(n_estimators = 20)\n",
    "x_train, x_test, y_train, y_test = train_test_split(x, y, test_size = 0.2)\n",
    "\n",
    "hp = {\"max_depth\": [4, 3, 2],\n",
    "              \"min_samples_split\": sp_randint(2, 11),\n",
    "              \"criterion\": [\"gini\", \"entropy\"],\n",
    "              \"bootstrap\": [True, False]\n",
    "              }\n",
    "\n",
    "n_iter_search = 10\n",
    "random_search = RandomizedSearchCV(rfc, param_distributions = hp,\n",
    "                                   n_iter = n_iter_search, cv = 5, iid = False)\n",
    "\n",
    "start = time()\n",
    "random_search.fit(x_test, y_test) # (аналогично) какую выборку мне нужно здесь нужно использовать?\n",
    "print(\"Метод случайного поиска занял %.2f секунд для нахождения %d\"\n",
    "      \" следующих гиперпараметров:\" % ((time() - start), n_iter_search))\n",
    "means = random_search.cv_results_['mean_test_score']\n",
    "stds = random_search.cv_results_['std_test_score']\n",
    "for mean, std, params in zip(means, stds, random_search.cv_results_['params']):\n",
    "  print(\"%0.3f (+/-%0.03f) for %r\" % (mean, std * 2, params))"
   ]
  },
  {
   "cell_type": "markdown",
   "metadata": {},
   "source": [
    "Плюсы: Гораздо быстрее, чем метод Grid Search.\n",
    "\n",
    "Минусы: Может не возвращать оптимальную комбинацию гиперпараметров, которая вернула бы лучшую точность. Он также не учитывает прошлые оценки и продолжает итерации вне зависимости от результатов."
   ]
  }
 ],
 "metadata": {
  "kernelspec": {
   "display_name": "Python 3",
   "language": "python",
   "name": "python3"
  },
  "language_info": {
   "codemirror_mode": {
    "name": "ipython",
    "version": 3
   },
   "file_extension": ".py",
   "mimetype": "text/x-python",
   "name": "python",
   "nbconvert_exporter": "python",
   "pygments_lexer": "ipython3",
   "version": "3.7.4"
  }
 },
 "nbformat": 4,
 "nbformat_minor": 2
}
