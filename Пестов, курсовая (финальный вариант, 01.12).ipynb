{
 "cells": [
  {
   "cell_type": "markdown",
   "metadata": {},
   "source": [
    "![Титульный лист](https://sun9-16.userapi.com/pZ8LejyT0ocpEHFdg4pP2CJPy3LUy28K4RCiag/VCjYuCppmU8.jpg \"Титульный лист\")\n"
   ]
  },
  {
   "cell_type": "markdown",
   "metadata": {},
   "source": [
    "# Содержание"
   ]
  },
  {
   "cell_type": "raw",
   "metadata": {},
   "source": [
    "1. Описание набора данных и решаемой задачи.\n",
    "2. Разделение набора данных на обучающую и тестовую выборки.\n",
    "3. Обучение нескольких моделей для решения выбранной задачи.\n",
    "    3.1. Алгоритм наивного байесовского классификатора.   \n",
    "    3.2. Алгоритм итеративного дихотомизатора (ID3).\n",
    "4. Выбор наиболее перспективной модели для решения поставленной задачи. \n",
    "    4.1. Поиск оптимальных гиперпараметров.\n",
    "5. Сравнение результатов.\n",
    "6. Представление результатов моделирования с использованием визуализации.\n",
    "7. Заключение."
   ]
  },
  {
   "cell_type": "markdown",
   "metadata": {},
   "source": [
    "# 1.  Описание набора данных и решаемой задачи."
   ]
  },
  {
   "cell_type": "markdown",
   "metadata": {},
   "source": [
    "Само понятие верификации финансовых транзакций подразумевает наличие этих транзакций. Именно поэтому на сайте kaggle.com был выбран подходящий тематике курсовой работы набор данных \"Fraud transactions detection\", состоящий из реальных данных с указанным признаком «плохой» транзакции «bad_flag». Именно атрибут «bad_flag» является целевой переменной в дата-сете.\n",
    "Категориальные признаки (названия товаров, и т.д.) не будут рассматриваться в процессе работы, ровным счётом как и ID-коды транзакций, которые не должны участвовать в обучении. Будет осуществляться лишь поиск подозрительных транзакций."
   ]
  },
  {
   "cell_type": "code",
   "execution_count": 1,
   "metadata": {},
   "outputs": [],
   "source": [
    "from mpl_toolkits.mplot3d import Axes3D\n",
    "from sklearn.preprocessing import StandardScaler\n",
    "import matplotlib.pyplot as plt \n",
    "import numpy as np \n",
    "import os \n",
    "import seaborn as sns\n",
    "\n",
    "import pandas as pd \n",
    "from sklearn.model_selection import train_test_split,  cross_validate, GridSearchCV, RandomizedSearchCV\n",
    "from sklearn.linear_model import LogisticRegression\n",
    "from sklearn import datasets, linear_model\n",
    "from sklearn.metrics import accuracy_score\n",
    "from sklearn.naive_bayes import GaussianNB\n",
    "from sklearn import metrics\n",
    "from sklearn.tree import DecisionTreeClassifier\n",
    "from sklearn.model_selection import StratifiedShuffleSplit\n",
    "from sklearn.ensemble import RandomForestClassifier\n",
    "from sklearn.metrics import classification_report, confusion_matrix, accuracy_score, f1_score, precision_score, make_scorer, recall_score\n",
    "from sklearn.svm import SVC\n",
    "\n",
    "import warnings\n",
    "from time import time\n",
    "from scipy.stats import randint as sp_randint\n",
    "import matplotlib\n",
    "import matplotlib.pyplot as plt\n",
    "from scipy.stats import norm\n",
    "from scipy.stats.kde import gaussian_kde\n",
    "from numpy import linspace,hstack\n",
    "from pylab import plot,show,hist"
   ]
  },
  {
   "cell_type": "markdown",
   "metadata": {},
   "source": [
    "Приготовимся к описанию нашего дата-сета; для начала выведем несколько первых строк с целью убедиться, что набор данных считался и готов к работе."
   ]
  },
  {
   "cell_type": "code",
   "execution_count": 2,
   "metadata": {},
   "outputs": [],
   "source": [
    "DS = pd.read_csv(\"fraud.csv\", delimiter=',')  "
   ]
  },
  {
   "cell_type": "markdown",
   "metadata": {},
   "source": [
    "Выведем первые несколько строк таблицы с набором наших данных:"
   ]
  },
  {
   "cell_type": "code",
   "execution_count": 3,
   "metadata": {
    "scrolled": true
   },
   "outputs": [
    {
     "data": {
      "text/html": [
       "<div>\n",
       "<style scoped>\n",
       "    .dataframe tbody tr th:only-of-type {\n",
       "        vertical-align: middle;\n",
       "    }\n",
       "\n",
       "    .dataframe tbody tr th {\n",
       "        vertical-align: top;\n",
       "    }\n",
       "\n",
       "    .dataframe thead th {\n",
       "        text-align: right;\n",
       "    }\n",
       "</style>\n",
       "<table border=\"1\" class=\"dataframe\">\n",
       "  <thead>\n",
       "    <tr style=\"text-align: right;\">\n",
       "      <th></th>\n",
       "      <th>loanKey</th>\n",
       "      <th>rep_loan_date</th>\n",
       "      <th>first_loan</th>\n",
       "      <th>dpd_5_cnt</th>\n",
       "      <th>dpd_15_cnt</th>\n",
       "      <th>dpd_30_cnt</th>\n",
       "      <th>first_overdue_date</th>\n",
       "      <th>close_loans_cnt</th>\n",
       "      <th>federal_district_nm</th>\n",
       "      <th>TraderKey</th>\n",
       "      <th>...</th>\n",
       "      <th>payment_type_2</th>\n",
       "      <th>payment_type_3</th>\n",
       "      <th>payment_type_4</th>\n",
       "      <th>payment_type_5</th>\n",
       "      <th>past_billings_cnt</th>\n",
       "      <th>score_1</th>\n",
       "      <th>score_2</th>\n",
       "      <th>age</th>\n",
       "      <th>gender</th>\n",
       "      <th>bad_flag</th>\n",
       "    </tr>\n",
       "  </thead>\n",
       "  <tbody>\n",
       "    <tr>\n",
       "      <td>0</td>\n",
       "      <td>307a838f523ff4963ff3d9436b04be90</td>\n",
       "      <td>2016-03-26</td>\n",
       "      <td>2015-09-28</td>\n",
       "      <td>1.0</td>\n",
       "      <td>0.0</td>\n",
       "      <td>0.0</td>\n",
       "      <td>2016-01-30</td>\n",
       "      <td>0.0</td>\n",
       "      <td>region_6</td>\n",
       "      <td>1679091c5a880faf6fb5e6087eb1b2dc</td>\n",
       "      <td>...</td>\n",
       "      <td>6</td>\n",
       "      <td>0</td>\n",
       "      <td>0</td>\n",
       "      <td>0</td>\n",
       "      <td>5.0</td>\n",
       "      <td>NaN</td>\n",
       "      <td>NaN</td>\n",
       "      <td>20.0</td>\n",
       "      <td>False</td>\n",
       "      <td>0</td>\n",
       "    </tr>\n",
       "    <tr>\n",
       "      <td>1</td>\n",
       "      <td>779ad1fcf8fa5a1fb863e725ba02f3ea</td>\n",
       "      <td>2016-10-30</td>\n",
       "      <td>2015-12-21</td>\n",
       "      <td>NaN</td>\n",
       "      <td>NaN</td>\n",
       "      <td>NaN</td>\n",
       "      <td>NaN</td>\n",
       "      <td>2.0</td>\n",
       "      <td>region_1</td>\n",
       "      <td>1679091c5a880faf6fb5e6087eb1b2dc</td>\n",
       "      <td>...</td>\n",
       "      <td>0</td>\n",
       "      <td>5</td>\n",
       "      <td>0</td>\n",
       "      <td>0</td>\n",
       "      <td>5.0</td>\n",
       "      <td>NaN</td>\n",
       "      <td>NaN</td>\n",
       "      <td>19.0</td>\n",
       "      <td>False</td>\n",
       "      <td>0</td>\n",
       "    </tr>\n",
       "    <tr>\n",
       "      <td>2</td>\n",
       "      <td>665d9bb66b1dcb65e89f922ac00f1f45</td>\n",
       "      <td>2016-06-29</td>\n",
       "      <td>2015-06-30</td>\n",
       "      <td>NaN</td>\n",
       "      <td>NaN</td>\n",
       "      <td>NaN</td>\n",
       "      <td>NaN</td>\n",
       "      <td>1.0</td>\n",
       "      <td>region_6</td>\n",
       "      <td>aab3238922bcc25a6f606eb525ffdc56</td>\n",
       "      <td>...</td>\n",
       "      <td>4</td>\n",
       "      <td>0</td>\n",
       "      <td>0</td>\n",
       "      <td>0</td>\n",
       "      <td>6.0</td>\n",
       "      <td>NaN</td>\n",
       "      <td>NaN</td>\n",
       "      <td>21.0</td>\n",
       "      <td>False</td>\n",
       "      <td>0</td>\n",
       "    </tr>\n",
       "    <tr>\n",
       "      <td>3</td>\n",
       "      <td>0af212b8130a0285ca67dfeb57c64a68</td>\n",
       "      <td>2015-12-01</td>\n",
       "      <td>2015-08-03</td>\n",
       "      <td>NaN</td>\n",
       "      <td>NaN</td>\n",
       "      <td>NaN</td>\n",
       "      <td>NaN</td>\n",
       "      <td>0.0</td>\n",
       "      <td>region_5</td>\n",
       "      <td>b6d767d2f8ed5d21a44b0e5886680cb9</td>\n",
       "      <td>...</td>\n",
       "      <td>0</td>\n",
       "      <td>0</td>\n",
       "      <td>0</td>\n",
       "      <td>0</td>\n",
       "      <td>3.0</td>\n",
       "      <td>NaN</td>\n",
       "      <td>NaN</td>\n",
       "      <td>33.0</td>\n",
       "      <td>False</td>\n",
       "      <td>0</td>\n",
       "    </tr>\n",
       "    <tr>\n",
       "      <td>4</td>\n",
       "      <td>5f13b34f42f732620491c282ae56bc23</td>\n",
       "      <td>2016-10-01</td>\n",
       "      <td>2015-08-30</td>\n",
       "      <td>NaN</td>\n",
       "      <td>NaN</td>\n",
       "      <td>NaN</td>\n",
       "      <td>NaN</td>\n",
       "      <td>2.0</td>\n",
       "      <td>region_3</td>\n",
       "      <td>a5771bce93e200c36f7cd9dfd0e5deaa</td>\n",
       "      <td>...</td>\n",
       "      <td>6</td>\n",
       "      <td>0</td>\n",
       "      <td>0</td>\n",
       "      <td>0</td>\n",
       "      <td>5.0</td>\n",
       "      <td>NaN</td>\n",
       "      <td>NaN</td>\n",
       "      <td>34.0</td>\n",
       "      <td>False</td>\n",
       "      <td>0</td>\n",
       "    </tr>\n",
       "  </tbody>\n",
       "</table>\n",
       "<p>5 rows × 22 columns</p>\n",
       "</div>"
      ],
      "text/plain": [
       "                            loanKey rep_loan_date  first_loan  dpd_5_cnt  \\\n",
       "0  307a838f523ff4963ff3d9436b04be90    2016-03-26  2015-09-28        1.0   \n",
       "1  779ad1fcf8fa5a1fb863e725ba02f3ea    2016-10-30  2015-12-21        NaN   \n",
       "2  665d9bb66b1dcb65e89f922ac00f1f45    2016-06-29  2015-06-30        NaN   \n",
       "3  0af212b8130a0285ca67dfeb57c64a68    2015-12-01  2015-08-03        NaN   \n",
       "4  5f13b34f42f732620491c282ae56bc23    2016-10-01  2015-08-30        NaN   \n",
       "\n",
       "   dpd_15_cnt  dpd_30_cnt first_overdue_date  close_loans_cnt  \\\n",
       "0         0.0         0.0         2016-01-30              0.0   \n",
       "1         NaN         NaN                NaN              2.0   \n",
       "2         NaN         NaN                NaN              1.0   \n",
       "3         NaN         NaN                NaN              0.0   \n",
       "4         NaN         NaN                NaN              2.0   \n",
       "\n",
       "  federal_district_nm                         TraderKey  ...  payment_type_2  \\\n",
       "0            region_6  1679091c5a880faf6fb5e6087eb1b2dc  ...               6   \n",
       "1            region_1  1679091c5a880faf6fb5e6087eb1b2dc  ...               0   \n",
       "2            region_6  aab3238922bcc25a6f606eb525ffdc56  ...               4   \n",
       "3            region_5  b6d767d2f8ed5d21a44b0e5886680cb9  ...               0   \n",
       "4            region_3  a5771bce93e200c36f7cd9dfd0e5deaa  ...               6   \n",
       "\n",
       "   payment_type_3  payment_type_4  payment_type_5  past_billings_cnt  score_1  \\\n",
       "0               0               0               0                5.0      NaN   \n",
       "1               5               0               0                5.0      NaN   \n",
       "2               0               0               0                6.0      NaN   \n",
       "3               0               0               0                3.0      NaN   \n",
       "4               0               0               0                5.0      NaN   \n",
       "\n",
       "   score_2   age  gender  bad_flag  \n",
       "0      NaN  20.0   False         0  \n",
       "1      NaN  19.0   False         0  \n",
       "2      NaN  21.0   False         0  \n",
       "3      NaN  33.0   False         0  \n",
       "4      NaN  34.0   False         0  \n",
       "\n",
       "[5 rows x 22 columns]"
      ]
     },
     "execution_count": 3,
     "metadata": {},
     "output_type": "execute_result"
    }
   ],
   "source": [
    "DS.head()"
   ]
  },
  {
   "cell_type": "markdown",
   "metadata": {},
   "source": [
    "Найдём процентное соотношение \"плохих\" транзакций, помеченных атрибутом \"bad_flag\", к нормально верифицированным платежам:"
   ]
  },
  {
   "cell_type": "code",
   "execution_count": 4,
   "metadata": {},
   "outputs": [
    {
     "name": "stdout",
     "output_type": "stream",
     "text": [
      "Процент плохих транзакций в наборе данных составляет: 10.03 %\n"
     ]
    }
   ],
   "source": [
    "percent_bad = DS[DS['bad_flag'] == 1]\n",
    "percent_bad_1 = np.round(len(percent_bad)/len(DS)*100,2)\n",
    "print(\"Процент плохих транзакций в наборе данных составляет:\", percent_bad_1,\"%\")"
   ]
  },
  {
   "cell_type": "markdown",
   "metadata": {},
   "source": [
    "Логично, что процент нормально верифицированных платежей в наборе данных составляет:"
   ]
  },
  {
   "cell_type": "code",
   "execution_count": 5,
   "metadata": {
    "scrolled": true
   },
   "outputs": [
    {
     "name": "stdout",
     "output_type": "stream",
     "text": [
      "89.97 %\n"
     ]
    }
   ],
   "source": [
    "print(100 - percent_bad_1,\"%\")"
   ]
  },
  {
   "cell_type": "markdown",
   "metadata": {},
   "source": [
    "Для наглядности построим круговую диаграмму, которая покажет данное соотношение:"
   ]
  },
  {
   "cell_type": "code",
   "execution_count": 6,
   "metadata": {
    "scrolled": true
   },
   "outputs": [
    {
     "data": {
      "image/png": "[encoded data removed]",
      "text/plain": [
       "<Figure size 432x288 with 1 Axes>"
      ]
     },
     "metadata": {},
     "output_type": "display_data"
    }
   ],
   "source": [
    "labels = ['Плохие', 'Нормальные']\n",
    "value = [DS[DS['bad_flag'] == 1]['bad_flag'].count(),DS[DS['bad_flag'] == 0]['bad_flag'].count()]\n",
    "value = pd.Series(value)\n",
    "fig, ax = plt.subplots()\n",
    "ax.pie(value, labels=labels)\n",
    "value.plot(kind='pie', labels=['', ''],\n",
    "                                   ax=ax, autopct='%.2f%%', fontsize=15)\n",
    "ax.set_title(u'Соотношение плохих и нормальных транзакций')\n",
    "ax.axis('equal')\n",
    "ax.legend(labels=[u'Плохие', u'Нормальные'], framealpha = 0)\n",
    "ax.set_ylabel('')\n",
    "plt.tight_layout()"
   ]
  },
  {
   "cell_type": "markdown",
   "metadata": {},
   "source": [
    "Количество точек данных (измерений) в наборе:"
   ]
  },
  {
   "cell_type": "code",
   "execution_count": 7,
   "metadata": {},
   "outputs": [
    {
     "data": {
      "text/plain": [
       "4156"
      ]
     },
     "execution_count": 7,
     "metadata": {},
     "output_type": "execute_result"
    }
   ],
   "source": [
    "len(DS)"
   ]
  },
  {
   "cell_type": "markdown",
   "metadata": {},
   "source": [
    "Количество полей данных (атрибутов):"
   ]
  },
  {
   "cell_type": "code",
   "execution_count": 8,
   "metadata": {},
   "outputs": [
    {
     "data": {
      "text/plain": [
       "22"
      ]
     },
     "execution_count": 8,
     "metadata": {},
     "output_type": "execute_result"
    }
   ],
   "source": [
    "len(DS.columns)"
   ]
  },
  {
   "cell_type": "markdown",
   "metadata": {},
   "source": [
    "Названия всех атрибутов в наборе данных:"
   ]
  },
  {
   "cell_type": "code",
   "execution_count": 9,
   "metadata": {
    "scrolled": false
   },
   "outputs": [
    {
     "data": {
      "text/plain": [
       "Index(['loanKey', 'rep_loan_date', 'first_loan', 'dpd_5_cnt', 'dpd_15_cnt',\n",
       "       'dpd_30_cnt', 'first_overdue_date', 'close_loans_cnt',\n",
       "       'federal_district_nm', 'TraderKey', 'payment_type_0', 'payment_type_1',\n",
       "       'payment_type_2', 'payment_type_3', 'payment_type_4', 'payment_type_5',\n",
       "       'past_billings_cnt', 'score_1', 'score_2', 'age', 'gender', 'bad_flag'],\n",
       "      dtype='object')"
      ]
     },
     "execution_count": 9,
     "metadata": {},
     "output_type": "execute_result"
    }
   ],
   "source": [
    "DS.columns"
   ]
  },
  {
   "cell_type": "markdown",
   "metadata": {},
   "source": [
    "Количество отсутствующих значений для каждого поля:"
   ]
  },
  {
   "cell_type": "code",
   "execution_count": 10,
   "metadata": {
    "scrolled": true
   },
   "outputs": [
    {
     "data": {
      "text/plain": [
       "loanKey                   0\n",
       "rep_loan_date             0\n",
       "first_loan                0\n",
       "dpd_5_cnt              3481\n",
       "dpd_15_cnt             3481\n",
       "dpd_30_cnt             3481\n",
       "first_overdue_date     3481\n",
       "close_loans_cnt          15\n",
       "federal_district_nm      11\n",
       "TraderKey                 0\n",
       "payment_type_0            0\n",
       "payment_type_1            0\n",
       "payment_type_2            0\n",
       "payment_type_3            0\n",
       "payment_type_4            0\n",
       "payment_type_5            0\n",
       "past_billings_cnt       248\n",
       "score_1                 649\n",
       "score_2                3917\n",
       "age                       0\n",
       "gender                    0\n",
       "bad_flag                  0\n",
       "dtype: int64"
      ]
     },
     "execution_count": 10,
     "metadata": {},
     "output_type": "execute_result"
    }
   ],
   "source": [
    "len(DS) - DS.count()"
   ]
  },
  {
   "cell_type": "markdown",
   "metadata": {},
   "source": [
    "То же самое, но в процентном представлении:"
   ]
  },
  {
   "cell_type": "code",
   "execution_count": 11,
   "metadata": {},
   "outputs": [
    {
     "data": {
      "text/plain": [
       "loanKey                0.000000\n",
       "age                    0.000000\n",
       "payment_type_5         0.000000\n",
       "payment_type_4         0.000000\n",
       "payment_type_3         0.000000\n",
       "payment_type_2         0.000000\n",
       "payment_type_1         0.000000\n",
       "gender                 0.000000\n",
       "TraderKey              0.000000\n",
       "payment_type_0         0.000000\n",
       "first_loan             0.000000\n",
       "rep_loan_date          0.000000\n",
       "bad_flag               0.000000\n",
       "federal_district_nm    0.002647\n",
       "close_loans_cnt        0.003609\n",
       "past_billings_cnt      0.059673\n",
       "score_1                0.156160\n",
       "first_overdue_date     0.837584\n",
       "dpd_30_cnt             0.837584\n",
       "dpd_15_cnt             0.837584\n",
       "dpd_5_cnt              0.837584\n",
       "score_2                0.942493\n",
       "dtype: float64"
      ]
     },
     "execution_count": 11,
     "metadata": {},
     "output_type": "execute_result"
    }
   ],
   "source": [
    "(DS.isna().sum(axis=0)/len(DS)).sort_values()"
   ]
  },
  {
   "cell_type": "markdown",
   "metadata": {},
   "source": [
    "Общая информация о дата-сете:"
   ]
  },
  {
   "cell_type": "code",
   "execution_count": 12,
   "metadata": {},
   "outputs": [
    {
     "name": "stdout",
     "output_type": "stream",
     "text": [
      "<class 'pandas.core.frame.DataFrame'>\n",
      "RangeIndex: 4156 entries, 0 to 4155\n",
      "Data columns (total 22 columns):\n",
      "loanKey                4156 non-null object\n",
      "rep_loan_date          4156 non-null object\n",
      "first_loan             4156 non-null object\n",
      "dpd_5_cnt              675 non-null float64\n",
      "dpd_15_cnt             675 non-null float64\n",
      "dpd_30_cnt             675 non-null float64\n",
      "first_overdue_date     675 non-null object\n",
      "close_loans_cnt        4141 non-null float64\n",
      "federal_district_nm    4145 non-null object\n",
      "TraderKey              4156 non-null object\n",
      "payment_type_0         4156 non-null int64\n",
      "payment_type_1         4156 non-null int64\n",
      "payment_type_2         4156 non-null int64\n",
      "payment_type_3         4156 non-null int64\n",
      "payment_type_4         4156 non-null int64\n",
      "payment_type_5         4156 non-null int64\n",
      "past_billings_cnt      3908 non-null float64\n",
      "score_1                3507 non-null float64\n",
      "score_2                239 non-null float64\n",
      "age                    4156 non-null float64\n",
      "gender                 4156 non-null bool\n",
      "bad_flag               4156 non-null int64\n",
      "dtypes: bool(1), float64(8), int64(7), object(6)\n",
      "memory usage: 686.0+ KB\n"
     ]
    }
   ],
   "source": [
    "DS.info()"
   ]
  },
  {
   "cell_type": "markdown",
   "metadata": {},
   "source": [
    "Количество строк и столбцов в дата-сете соответственно:"
   ]
  },
  {
   "cell_type": "code",
   "execution_count": 13,
   "metadata": {
    "scrolled": true
   },
   "outputs": [
    {
     "data": {
      "text/plain": [
       "(4156, 22)"
      ]
     },
     "execution_count": 13,
     "metadata": {},
     "output_type": "execute_result"
    }
   ],
   "source": [
    "DS.shape"
   ]
  },
  {
   "cell_type": "markdown",
   "metadata": {},
   "source": [
    "Общая описательная статистика дата-сета:"
   ]
  },
  {
   "cell_type": "code",
   "execution_count": 14,
   "metadata": {},
   "outputs": [
    {
     "data": {
      "text/html": [
       "<div>\n",
       "<style scoped>\n",
       "    .dataframe tbody tr th:only-of-type {\n",
       "        vertical-align: middle;\n",
       "    }\n",
       "\n",
       "    .dataframe tbody tr th {\n",
       "        vertical-align: top;\n",
       "    }\n",
       "\n",
       "    .dataframe thead th {\n",
       "        text-align: right;\n",
       "    }\n",
       "</style>\n",
       "<table border=\"1\" class=\"dataframe\">\n",
       "  <thead>\n",
       "    <tr style=\"text-align: right;\">\n",
       "      <th></th>\n",
       "      <th>dpd_5_cnt</th>\n",
       "      <th>dpd_15_cnt</th>\n",
       "      <th>dpd_30_cnt</th>\n",
       "      <th>close_loans_cnt</th>\n",
       "      <th>payment_type_0</th>\n",
       "      <th>payment_type_1</th>\n",
       "      <th>payment_type_2</th>\n",
       "      <th>payment_type_3</th>\n",
       "      <th>payment_type_4</th>\n",
       "      <th>payment_type_5</th>\n",
       "      <th>past_billings_cnt</th>\n",
       "      <th>score_1</th>\n",
       "      <th>score_2</th>\n",
       "      <th>age</th>\n",
       "      <th>bad_flag</th>\n",
       "    </tr>\n",
       "  </thead>\n",
       "  <tbody>\n",
       "    <tr>\n",
       "      <td>count</td>\n",
       "      <td>675.000000</td>\n",
       "      <td>675.000000</td>\n",
       "      <td>675.000000</td>\n",
       "      <td>4141.000000</td>\n",
       "      <td>4156.000000</td>\n",
       "      <td>4156.000000</td>\n",
       "      <td>4156.000000</td>\n",
       "      <td>4156.000000</td>\n",
       "      <td>4156.000000</td>\n",
       "      <td>4156.0</td>\n",
       "      <td>3908.000000</td>\n",
       "      <td>3507.000000</td>\n",
       "      <td>239.000000</td>\n",
       "      <td>4156.000000</td>\n",
       "      <td>4156.000000</td>\n",
       "    </tr>\n",
       "    <tr>\n",
       "      <td>mean</td>\n",
       "      <td>1.444444</td>\n",
       "      <td>0.733333</td>\n",
       "      <td>0.280000</td>\n",
       "      <td>1.184255</td>\n",
       "      <td>0.018527</td>\n",
       "      <td>0.596246</td>\n",
       "      <td>3.754331</td>\n",
       "      <td>0.758422</td>\n",
       "      <td>0.019490</td>\n",
       "      <td>0.0</td>\n",
       "      <td>4.977738</td>\n",
       "      <td>578.911345</td>\n",
       "      <td>552.546610</td>\n",
       "      <td>34.564485</td>\n",
       "      <td>0.100337</td>\n",
       "    </tr>\n",
       "    <tr>\n",
       "      <td>std</td>\n",
       "      <td>0.900599</td>\n",
       "      <td>0.764572</td>\n",
       "      <td>0.502339</td>\n",
       "      <td>1.723692</td>\n",
       "      <td>0.330399</td>\n",
       "      <td>2.565179</td>\n",
       "      <td>3.809930</td>\n",
       "      <td>2.212722</td>\n",
       "      <td>0.245989</td>\n",
       "      <td>0.0</td>\n",
       "      <td>3.491078</td>\n",
       "      <td>48.989869</td>\n",
       "      <td>21.492840</td>\n",
       "      <td>10.833403</td>\n",
       "      <td>0.300485</td>\n",
       "    </tr>\n",
       "    <tr>\n",
       "      <td>min</td>\n",
       "      <td>0.000000</td>\n",
       "      <td>0.000000</td>\n",
       "      <td>0.000000</td>\n",
       "      <td>0.000000</td>\n",
       "      <td>0.000000</td>\n",
       "      <td>0.000000</td>\n",
       "      <td>0.000000</td>\n",
       "      <td>0.000000</td>\n",
       "      <td>0.000000</td>\n",
       "      <td>0.0</td>\n",
       "      <td>1.000000</td>\n",
       "      <td>384.220628</td>\n",
       "      <td>485.874267</td>\n",
       "      <td>18.000000</td>\n",
       "      <td>0.000000</td>\n",
       "    </tr>\n",
       "    <tr>\n",
       "      <td>25%</td>\n",
       "      <td>1.000000</td>\n",
       "      <td>0.000000</td>\n",
       "      <td>0.000000</td>\n",
       "      <td>0.000000</td>\n",
       "      <td>0.000000</td>\n",
       "      <td>0.000000</td>\n",
       "      <td>1.000000</td>\n",
       "      <td>0.000000</td>\n",
       "      <td>0.000000</td>\n",
       "      <td>0.0</td>\n",
       "      <td>2.000000</td>\n",
       "      <td>547.429791</td>\n",
       "      <td>535.545724</td>\n",
       "      <td>26.000000</td>\n",
       "      <td>0.000000</td>\n",
       "    </tr>\n",
       "    <tr>\n",
       "      <td>50%</td>\n",
       "      <td>1.000000</td>\n",
       "      <td>1.000000</td>\n",
       "      <td>0.000000</td>\n",
       "      <td>1.000000</td>\n",
       "      <td>0.000000</td>\n",
       "      <td>0.000000</td>\n",
       "      <td>3.000000</td>\n",
       "      <td>0.000000</td>\n",
       "      <td>0.000000</td>\n",
       "      <td>0.0</td>\n",
       "      <td>4.000000</td>\n",
       "      <td>588.531315</td>\n",
       "      <td>556.757944</td>\n",
       "      <td>32.000000</td>\n",
       "      <td>0.000000</td>\n",
       "    </tr>\n",
       "    <tr>\n",
       "      <td>75%</td>\n",
       "      <td>2.000000</td>\n",
       "      <td>1.000000</td>\n",
       "      <td>1.000000</td>\n",
       "      <td>2.000000</td>\n",
       "      <td>0.000000</td>\n",
       "      <td>0.000000</td>\n",
       "      <td>6.000000</td>\n",
       "      <td>0.000000</td>\n",
       "      <td>0.000000</td>\n",
       "      <td>0.0</td>\n",
       "      <td>6.000000</td>\n",
       "      <td>612.323090</td>\n",
       "      <td>567.608057</td>\n",
       "      <td>41.000000</td>\n",
       "      <td>0.000000</td>\n",
       "    </tr>\n",
       "    <tr>\n",
       "      <td>max</td>\n",
       "      <td>7.000000</td>\n",
       "      <td>5.000000</td>\n",
       "      <td>3.000000</td>\n",
       "      <td>31.000000</td>\n",
       "      <td>15.000000</td>\n",
       "      <td>81.000000</td>\n",
       "      <td>33.000000</td>\n",
       "      <td>35.000000</td>\n",
       "      <td>7.000000</td>\n",
       "      <td>0.0</td>\n",
       "      <td>21.000000</td>\n",
       "      <td>691.528420</td>\n",
       "      <td>603.311653</td>\n",
       "      <td>74.000000</td>\n",
       "      <td>1.000000</td>\n",
       "    </tr>\n",
       "  </tbody>\n",
       "</table>\n",
       "</div>"
      ],
      "text/plain": [
       "        dpd_5_cnt  dpd_15_cnt  dpd_30_cnt  close_loans_cnt  payment_type_0  \\\n",
       "count  675.000000  675.000000  675.000000      4141.000000     4156.000000   \n",
       "mean     1.444444    0.733333    0.280000         1.184255        0.018527   \n",
       "std      0.900599    0.764572    0.502339         1.723692        0.330399   \n",
       "min      0.000000    0.000000    0.000000         0.000000        0.000000   \n",
       "25%      1.000000    0.000000    0.000000         0.000000        0.000000   \n",
       "50%      1.000000    1.000000    0.000000         1.000000        0.000000   \n",
       "75%      2.000000    1.000000    1.000000         2.000000        0.000000   \n",
       "max      7.000000    5.000000    3.000000        31.000000       15.000000   \n",
       "\n",
       "       payment_type_1  payment_type_2  payment_type_3  payment_type_4  \\\n",
       "count     4156.000000     4156.000000     4156.000000     4156.000000   \n",
       "mean         0.596246        3.754331        0.758422        0.019490   \n",
       "std          2.565179        3.809930        2.212722        0.245989   \n",
       "min          0.000000        0.000000        0.000000        0.000000   \n",
       "25%          0.000000        1.000000        0.000000        0.000000   \n",
       "50%          0.000000        3.000000        0.000000        0.000000   \n",
       "75%          0.000000        6.000000        0.000000        0.000000   \n",
       "max         81.000000       33.000000       35.000000        7.000000   \n",
       "\n",
       "       payment_type_5  past_billings_cnt      score_1     score_2  \\\n",
       "count          4156.0        3908.000000  3507.000000  239.000000   \n",
       "mean              0.0           4.977738   578.911345  552.546610   \n",
       "std               0.0           3.491078    48.989869   21.492840   \n",
       "min               0.0           1.000000   384.220628  485.874267   \n",
       "25%               0.0           2.000000   547.429791  535.545724   \n",
       "50%               0.0           4.000000   588.531315  556.757944   \n",
       "75%               0.0           6.000000   612.323090  567.608057   \n",
       "max               0.0          21.000000   691.528420  603.311653   \n",
       "\n",
       "               age     bad_flag  \n",
       "count  4156.000000  4156.000000  \n",
       "mean     34.564485     0.100337  \n",
       "std      10.833403     0.300485  \n",
       "min      18.000000     0.000000  \n",
       "25%      26.000000     0.000000  \n",
       "50%      32.000000     0.000000  \n",
       "75%      41.000000     0.000000  \n",
       "max      74.000000     1.000000  "
      ]
     },
     "execution_count": 14,
     "metadata": {},
     "output_type": "execute_result"
    }
   ],
   "source": [
    "DS.describe()"
   ]
  },
  {
   "cell_type": "markdown",
   "metadata": {},
   "source": [
    "Тип данных каждого поля, шкала каждого поля:"
   ]
  },
  {
   "cell_type": "code",
   "execution_count": 15,
   "metadata": {
    "scrolled": true
   },
   "outputs": [
    {
     "data": {
      "text/plain": [
       "loanKey                 object\n",
       "rep_loan_date           object\n",
       "first_loan              object\n",
       "dpd_5_cnt              float64\n",
       "dpd_15_cnt             float64\n",
       "dpd_30_cnt             float64\n",
       "first_overdue_date      object\n",
       "close_loans_cnt        float64\n",
       "federal_district_nm     object\n",
       "TraderKey               object\n",
       "payment_type_0           int64\n",
       "payment_type_1           int64\n",
       "payment_type_2           int64\n",
       "payment_type_3           int64\n",
       "payment_type_4           int64\n",
       "payment_type_5           int64\n",
       "past_billings_cnt      float64\n",
       "score_1                float64\n",
       "score_2                float64\n",
       "age                    float64\n",
       "gender                    bool\n",
       "bad_flag                 int64\n",
       "dtype: object"
      ]
     },
     "execution_count": 15,
     "metadata": {},
     "output_type": "execute_result"
    }
   ],
   "source": [
    "DS.dtypes"
   ]
  },
  {
   "cell_type": "markdown",
   "metadata": {},
   "source": [
    "Количество уникальных значений для каждого атрибута:"
   ]
  },
  {
   "cell_type": "code",
   "execution_count": 16,
   "metadata": {},
   "outputs": [
    {
     "data": {
      "text/plain": [
       "loanKey                4156\n",
       "rep_loan_date           582\n",
       "first_loan              634\n",
       "dpd_5_cnt                 8\n",
       "dpd_15_cnt                6\n",
       "dpd_30_cnt                4\n",
       "first_overdue_date       78\n",
       "close_loans_cnt          21\n",
       "federal_district_nm       8\n",
       "TraderKey                23\n",
       "payment_type_0            9\n",
       "payment_type_1           28\n",
       "payment_type_2           26\n",
       "payment_type_3           24\n",
       "payment_type_4            7\n",
       "payment_type_5            1\n",
       "past_billings_cnt        21\n",
       "score_1                1274\n",
       "score_2                  47\n",
       "age                      51\n",
       "gender                    2\n",
       "bad_flag                  2\n",
       "dtype: int64"
      ]
     },
     "execution_count": 16,
     "metadata": {},
     "output_type": "execute_result"
    }
   ],
   "source": [
    "DS.nunique() "
   ]
  },
  {
   "cell_type": "markdown",
   "metadata": {},
   "source": [
    "Удалим те атрибуты, в которых более 5% отсутствующих значений. Это поля: past_billings_cnt, score_1, first_overdue_date, dpd_30_cnt, dpd_15_cnt, dpd_5_cnt, score_2.           \n",
    "       \n",
    "                "
   ]
  },
  {
   "cell_type": "code",
   "execution_count": 17,
   "metadata": {
    "scrolled": true
   },
   "outputs": [
    {
     "data": {
      "text/html": [
       "<div>\n",
       "<style scoped>\n",
       "    .dataframe tbody tr th:only-of-type {\n",
       "        vertical-align: middle;\n",
       "    }\n",
       "\n",
       "    .dataframe tbody tr th {\n",
       "        vertical-align: top;\n",
       "    }\n",
       "\n",
       "    .dataframe thead th {\n",
       "        text-align: right;\n",
       "    }\n",
       "</style>\n",
       "<table border=\"1\" class=\"dataframe\">\n",
       "  <thead>\n",
       "    <tr style=\"text-align: right;\">\n",
       "      <th></th>\n",
       "      <th>loanKey</th>\n",
       "      <th>rep_loan_date</th>\n",
       "      <th>first_loan</th>\n",
       "      <th>close_loans_cnt</th>\n",
       "      <th>federal_district_nm</th>\n",
       "      <th>TraderKey</th>\n",
       "      <th>payment_type_0</th>\n",
       "      <th>payment_type_1</th>\n",
       "      <th>payment_type_2</th>\n",
       "      <th>payment_type_3</th>\n",
       "      <th>payment_type_4</th>\n",
       "      <th>payment_type_5</th>\n",
       "      <th>age</th>\n",
       "      <th>gender</th>\n",
       "      <th>bad_flag</th>\n",
       "    </tr>\n",
       "  </thead>\n",
       "  <tbody>\n",
       "    <tr>\n",
       "      <td>0</td>\n",
       "      <td>307a838f523ff4963ff3d9436b04be90</td>\n",
       "      <td>2016-03-26</td>\n",
       "      <td>2015-09-28</td>\n",
       "      <td>0.0</td>\n",
       "      <td>region_6</td>\n",
       "      <td>1679091c5a880faf6fb5e6087eb1b2dc</td>\n",
       "      <td>0</td>\n",
       "      <td>0</td>\n",
       "      <td>6</td>\n",
       "      <td>0</td>\n",
       "      <td>0</td>\n",
       "      <td>0</td>\n",
       "      <td>20.0</td>\n",
       "      <td>False</td>\n",
       "      <td>0</td>\n",
       "    </tr>\n",
       "    <tr>\n",
       "      <td>1</td>\n",
       "      <td>779ad1fcf8fa5a1fb863e725ba02f3ea</td>\n",
       "      <td>2016-10-30</td>\n",
       "      <td>2015-12-21</td>\n",
       "      <td>2.0</td>\n",
       "      <td>region_1</td>\n",
       "      <td>1679091c5a880faf6fb5e6087eb1b2dc</td>\n",
       "      <td>0</td>\n",
       "      <td>0</td>\n",
       "      <td>0</td>\n",
       "      <td>5</td>\n",
       "      <td>0</td>\n",
       "      <td>0</td>\n",
       "      <td>19.0</td>\n",
       "      <td>False</td>\n",
       "      <td>0</td>\n",
       "    </tr>\n",
       "    <tr>\n",
       "      <td>2</td>\n",
       "      <td>665d9bb66b1dcb65e89f922ac00f1f45</td>\n",
       "      <td>2016-06-29</td>\n",
       "      <td>2015-06-30</td>\n",
       "      <td>1.0</td>\n",
       "      <td>region_6</td>\n",
       "      <td>aab3238922bcc25a6f606eb525ffdc56</td>\n",
       "      <td>0</td>\n",
       "      <td>0</td>\n",
       "      <td>4</td>\n",
       "      <td>0</td>\n",
       "      <td>0</td>\n",
       "      <td>0</td>\n",
       "      <td>21.0</td>\n",
       "      <td>False</td>\n",
       "      <td>0</td>\n",
       "    </tr>\n",
       "    <tr>\n",
       "      <td>3</td>\n",
       "      <td>0af212b8130a0285ca67dfeb57c64a68</td>\n",
       "      <td>2015-12-01</td>\n",
       "      <td>2015-08-03</td>\n",
       "      <td>0.0</td>\n",
       "      <td>region_5</td>\n",
       "      <td>b6d767d2f8ed5d21a44b0e5886680cb9</td>\n",
       "      <td>0</td>\n",
       "      <td>3</td>\n",
       "      <td>0</td>\n",
       "      <td>0</td>\n",
       "      <td>0</td>\n",
       "      <td>0</td>\n",
       "      <td>33.0</td>\n",
       "      <td>False</td>\n",
       "      <td>0</td>\n",
       "    </tr>\n",
       "    <tr>\n",
       "      <td>4</td>\n",
       "      <td>5f13b34f42f732620491c282ae56bc23</td>\n",
       "      <td>2016-10-01</td>\n",
       "      <td>2015-08-30</td>\n",
       "      <td>2.0</td>\n",
       "      <td>region_3</td>\n",
       "      <td>a5771bce93e200c36f7cd9dfd0e5deaa</td>\n",
       "      <td>0</td>\n",
       "      <td>0</td>\n",
       "      <td>6</td>\n",
       "      <td>0</td>\n",
       "      <td>0</td>\n",
       "      <td>0</td>\n",
       "      <td>34.0</td>\n",
       "      <td>False</td>\n",
       "      <td>0</td>\n",
       "    </tr>\n",
       "    <tr>\n",
       "      <td>...</td>\n",
       "      <td>...</td>\n",
       "      <td>...</td>\n",
       "      <td>...</td>\n",
       "      <td>...</td>\n",
       "      <td>...</td>\n",
       "      <td>...</td>\n",
       "      <td>...</td>\n",
       "      <td>...</td>\n",
       "      <td>...</td>\n",
       "      <td>...</td>\n",
       "      <td>...</td>\n",
       "      <td>...</td>\n",
       "      <td>...</td>\n",
       "      <td>...</td>\n",
       "      <td>...</td>\n",
       "    </tr>\n",
       "    <tr>\n",
       "      <td>4151</td>\n",
       "      <td>cf43bb28e8c5ecf07d8bb32a243d9e39</td>\n",
       "      <td>2016-06-11</td>\n",
       "      <td>2016-05-17</td>\n",
       "      <td>0.0</td>\n",
       "      <td>region_5</td>\n",
       "      <td>8f14e45fceea167a5a36dedd4bea2543</td>\n",
       "      <td>0</td>\n",
       "      <td>0</td>\n",
       "      <td>1</td>\n",
       "      <td>0</td>\n",
       "      <td>0</td>\n",
       "      <td>0</td>\n",
       "      <td>26.0</td>\n",
       "      <td>False</td>\n",
       "      <td>0</td>\n",
       "    </tr>\n",
       "    <tr>\n",
       "      <td>4152</td>\n",
       "      <td>4a31ec1c6d5e4809c4677e873f92b243</td>\n",
       "      <td>2016-08-06</td>\n",
       "      <td>2016-03-11</td>\n",
       "      <td>1.0</td>\n",
       "      <td>region_2</td>\n",
       "      <td>c20ad4d76fe97759aa27a0c99bff6710</td>\n",
       "      <td>0</td>\n",
       "      <td>0</td>\n",
       "      <td>4</td>\n",
       "      <td>0</td>\n",
       "      <td>0</td>\n",
       "      <td>0</td>\n",
       "      <td>38.0</td>\n",
       "      <td>False</td>\n",
       "      <td>1</td>\n",
       "    </tr>\n",
       "    <tr>\n",
       "      <td>4153</td>\n",
       "      <td>4140d1e8424e12c890d439e5472e2deb</td>\n",
       "      <td>2016-09-05</td>\n",
       "      <td>2016-04-30</td>\n",
       "      <td>1.0</td>\n",
       "      <td>region_2</td>\n",
       "      <td>c20ad4d76fe97759aa27a0c99bff6710</td>\n",
       "      <td>0</td>\n",
       "      <td>0</td>\n",
       "      <td>4</td>\n",
       "      <td>0</td>\n",
       "      <td>0</td>\n",
       "      <td>0</td>\n",
       "      <td>21.0</td>\n",
       "      <td>False</td>\n",
       "      <td>0</td>\n",
       "    </tr>\n",
       "    <tr>\n",
       "      <td>4154</td>\n",
       "      <td>8b03ab03763644b74c9c01030209206b</td>\n",
       "      <td>2016-10-14</td>\n",
       "      <td>2016-05-20</td>\n",
       "      <td>0.0</td>\n",
       "      <td>region_6</td>\n",
       "      <td>8f14e45fceea167a5a36dedd4bea2543</td>\n",
       "      <td>0</td>\n",
       "      <td>0</td>\n",
       "      <td>4</td>\n",
       "      <td>0</td>\n",
       "      <td>0</td>\n",
       "      <td>0</td>\n",
       "      <td>35.0</td>\n",
       "      <td>False</td>\n",
       "      <td>0</td>\n",
       "    </tr>\n",
       "    <tr>\n",
       "      <td>4155</td>\n",
       "      <td>728d00b3a9767f56655c9e336b0590b1</td>\n",
       "      <td>2016-06-02</td>\n",
       "      <td>2015-12-08</td>\n",
       "      <td>0.0</td>\n",
       "      <td>region_4</td>\n",
       "      <td>c20ad4d76fe97759aa27a0c99bff6710</td>\n",
       "      <td>0</td>\n",
       "      <td>0</td>\n",
       "      <td>6</td>\n",
       "      <td>0</td>\n",
       "      <td>0</td>\n",
       "      <td>0</td>\n",
       "      <td>25.0</td>\n",
       "      <td>False</td>\n",
       "      <td>1</td>\n",
       "    </tr>\n",
       "  </tbody>\n",
       "</table>\n",
       "<p>4156 rows × 15 columns</p>\n",
       "</div>"
      ],
      "text/plain": [
       "                               loanKey rep_loan_date  first_loan  \\\n",
       "0     307a838f523ff4963ff3d9436b04be90    2016-03-26  2015-09-28   \n",
       "1     779ad1fcf8fa5a1fb863e725ba02f3ea    2016-10-30  2015-12-21   \n",
       "2     665d9bb66b1dcb65e89f922ac00f1f45    2016-06-29  2015-06-30   \n",
       "3     0af212b8130a0285ca67dfeb57c64a68    2015-12-01  2015-08-03   \n",
       "4     5f13b34f42f732620491c282ae56bc23    2016-10-01  2015-08-30   \n",
       "...                                ...           ...         ...   \n",
       "4151  cf43bb28e8c5ecf07d8bb32a243d9e39    2016-06-11  2016-05-17   \n",
       "4152  4a31ec1c6d5e4809c4677e873f92b243    2016-08-06  2016-03-11   \n",
       "4153  4140d1e8424e12c890d439e5472e2deb    2016-09-05  2016-04-30   \n",
       "4154  8b03ab03763644b74c9c01030209206b    2016-10-14  2016-05-20   \n",
       "4155  728d00b3a9767f56655c9e336b0590b1    2016-06-02  2015-12-08   \n",
       "\n",
       "      close_loans_cnt federal_district_nm                         TraderKey  \\\n",
       "0                 0.0            region_6  1679091c5a880faf6fb5e6087eb1b2dc   \n",
       "1                 2.0            region_1  1679091c5a880faf6fb5e6087eb1b2dc   \n",
       "2                 1.0            region_6  aab3238922bcc25a6f606eb525ffdc56   \n",
       "3                 0.0            region_5  b6d767d2f8ed5d21a44b0e5886680cb9   \n",
       "4                 2.0            region_3  a5771bce93e200c36f7cd9dfd0e5deaa   \n",
       "...               ...                 ...                               ...   \n",
       "4151              0.0            region_5  8f14e45fceea167a5a36dedd4bea2543   \n",
       "4152              1.0            region_2  c20ad4d76fe97759aa27a0c99bff6710   \n",
       "4153              1.0            region_2  c20ad4d76fe97759aa27a0c99bff6710   \n",
       "4154              0.0            region_6  8f14e45fceea167a5a36dedd4bea2543   \n",
       "4155              0.0            region_4  c20ad4d76fe97759aa27a0c99bff6710   \n",
       "\n",
       "      payment_type_0  payment_type_1  payment_type_2  payment_type_3  \\\n",
       "0                  0               0               6               0   \n",
       "1                  0               0               0               5   \n",
       "2                  0               0               4               0   \n",
       "3                  0               3               0               0   \n",
       "4                  0               0               6               0   \n",
       "...              ...             ...             ...             ...   \n",
       "4151               0               0               1               0   \n",
       "4152               0               0               4               0   \n",
       "4153               0               0               4               0   \n",
       "4154               0               0               4               0   \n",
       "4155               0               0               6               0   \n",
       "\n",
       "      payment_type_4  payment_type_5   age  gender  bad_flag  \n",
       "0                  0               0  20.0   False         0  \n",
       "1                  0               0  19.0   False         0  \n",
       "2                  0               0  21.0   False         0  \n",
       "3                  0               0  33.0   False         0  \n",
       "4                  0               0  34.0   False         0  \n",
       "...              ...             ...   ...     ...       ...  \n",
       "4151               0               0  26.0   False         0  \n",
       "4152               0               0  38.0   False         1  \n",
       "4153               0               0  21.0   False         0  \n",
       "4154               0               0  35.0   False         0  \n",
       "4155               0               0  25.0   False         1  \n",
       "\n",
       "[4156 rows x 15 columns]"
      ]
     },
     "execution_count": 17,
     "metadata": {},
     "output_type": "execute_result"
    }
   ],
   "source": [
    "del DS['past_billings_cnt']\n",
    "del DS['score_1']\n",
    "del DS['first_overdue_date']\n",
    "del DS['dpd_30_cnt']\n",
    "del DS['dpd_15_cnt']\n",
    "del DS['dpd_5_cnt']\n",
    "del DS['score_2']\n",
    "DS"
   ]
  },
  {
   "cell_type": "markdown",
   "metadata": {},
   "source": [
    "С таким же успехом можно удалить другим способом ещё 4 категориальных атрибута, которые не влияют на распознавание \"подозрительности\" транзакции: это их ID-коды, регион, где совершался платёж, а также \"битый\" столбец с полом, где все значения указаны как \"False\"."
   ]
  },
  {
   "cell_type": "code",
   "execution_count": 18,
   "metadata": {
    "scrolled": false
   },
   "outputs": [
    {
     "data": {
      "text/html": [
       "<div>\n",
       "<style scoped>\n",
       "    .dataframe tbody tr th:only-of-type {\n",
       "        vertical-align: middle;\n",
       "    }\n",
       "\n",
       "    .dataframe tbody tr th {\n",
       "        vertical-align: top;\n",
       "    }\n",
       "\n",
       "    .dataframe thead th {\n",
       "        text-align: right;\n",
       "    }\n",
       "</style>\n",
       "<table border=\"1\" class=\"dataframe\">\n",
       "  <thead>\n",
       "    <tr style=\"text-align: right;\">\n",
       "      <th></th>\n",
       "      <th>close_loans_cnt</th>\n",
       "      <th>payment_type_0</th>\n",
       "      <th>payment_type_1</th>\n",
       "      <th>payment_type_2</th>\n",
       "      <th>payment_type_3</th>\n",
       "      <th>payment_type_4</th>\n",
       "      <th>payment_type_5</th>\n",
       "      <th>age</th>\n",
       "      <th>bad_flag</th>\n",
       "    </tr>\n",
       "  </thead>\n",
       "  <tbody>\n",
       "    <tr>\n",
       "      <td>0</td>\n",
       "      <td>0.0</td>\n",
       "      <td>0</td>\n",
       "      <td>0</td>\n",
       "      <td>6</td>\n",
       "      <td>0</td>\n",
       "      <td>0</td>\n",
       "      <td>0</td>\n",
       "      <td>20.0</td>\n",
       "      <td>0</td>\n",
       "    </tr>\n",
       "    <tr>\n",
       "      <td>1</td>\n",
       "      <td>2.0</td>\n",
       "      <td>0</td>\n",
       "      <td>0</td>\n",
       "      <td>0</td>\n",
       "      <td>5</td>\n",
       "      <td>0</td>\n",
       "      <td>0</td>\n",
       "      <td>19.0</td>\n",
       "      <td>0</td>\n",
       "    </tr>\n",
       "    <tr>\n",
       "      <td>2</td>\n",
       "      <td>1.0</td>\n",
       "      <td>0</td>\n",
       "      <td>0</td>\n",
       "      <td>4</td>\n",
       "      <td>0</td>\n",
       "      <td>0</td>\n",
       "      <td>0</td>\n",
       "      <td>21.0</td>\n",
       "      <td>0</td>\n",
       "    </tr>\n",
       "    <tr>\n",
       "      <td>3</td>\n",
       "      <td>0.0</td>\n",
       "      <td>0</td>\n",
       "      <td>3</td>\n",
       "      <td>0</td>\n",
       "      <td>0</td>\n",
       "      <td>0</td>\n",
       "      <td>0</td>\n",
       "      <td>33.0</td>\n",
       "      <td>0</td>\n",
       "    </tr>\n",
       "    <tr>\n",
       "      <td>4</td>\n",
       "      <td>2.0</td>\n",
       "      <td>0</td>\n",
       "      <td>0</td>\n",
       "      <td>6</td>\n",
       "      <td>0</td>\n",
       "      <td>0</td>\n",
       "      <td>0</td>\n",
       "      <td>34.0</td>\n",
       "      <td>0</td>\n",
       "    </tr>\n",
       "    <tr>\n",
       "      <td>...</td>\n",
       "      <td>...</td>\n",
       "      <td>...</td>\n",
       "      <td>...</td>\n",
       "      <td>...</td>\n",
       "      <td>...</td>\n",
       "      <td>...</td>\n",
       "      <td>...</td>\n",
       "      <td>...</td>\n",
       "      <td>...</td>\n",
       "    </tr>\n",
       "    <tr>\n",
       "      <td>4151</td>\n",
       "      <td>0.0</td>\n",
       "      <td>0</td>\n",
       "      <td>0</td>\n",
       "      <td>1</td>\n",
       "      <td>0</td>\n",
       "      <td>0</td>\n",
       "      <td>0</td>\n",
       "      <td>26.0</td>\n",
       "      <td>0</td>\n",
       "    </tr>\n",
       "    <tr>\n",
       "      <td>4152</td>\n",
       "      <td>1.0</td>\n",
       "      <td>0</td>\n",
       "      <td>0</td>\n",
       "      <td>4</td>\n",
       "      <td>0</td>\n",
       "      <td>0</td>\n",
       "      <td>0</td>\n",
       "      <td>38.0</td>\n",
       "      <td>1</td>\n",
       "    </tr>\n",
       "    <tr>\n",
       "      <td>4153</td>\n",
       "      <td>1.0</td>\n",
       "      <td>0</td>\n",
       "      <td>0</td>\n",
       "      <td>4</td>\n",
       "      <td>0</td>\n",
       "      <td>0</td>\n",
       "      <td>0</td>\n",
       "      <td>21.0</td>\n",
       "      <td>0</td>\n",
       "    </tr>\n",
       "    <tr>\n",
       "      <td>4154</td>\n",
       "      <td>0.0</td>\n",
       "      <td>0</td>\n",
       "      <td>0</td>\n",
       "      <td>4</td>\n",
       "      <td>0</td>\n",
       "      <td>0</td>\n",
       "      <td>0</td>\n",
       "      <td>35.0</td>\n",
       "      <td>0</td>\n",
       "    </tr>\n",
       "    <tr>\n",
       "      <td>4155</td>\n",
       "      <td>0.0</td>\n",
       "      <td>0</td>\n",
       "      <td>0</td>\n",
       "      <td>6</td>\n",
       "      <td>0</td>\n",
       "      <td>0</td>\n",
       "      <td>0</td>\n",
       "      <td>25.0</td>\n",
       "      <td>1</td>\n",
       "    </tr>\n",
       "  </tbody>\n",
       "</table>\n",
       "<p>4156 rows × 9 columns</p>\n",
       "</div>"
      ],
      "text/plain": [
       "      close_loans_cnt  payment_type_0  payment_type_1  payment_type_2  \\\n",
       "0                 0.0               0               0               6   \n",
       "1                 2.0               0               0               0   \n",
       "2                 1.0               0               0               4   \n",
       "3                 0.0               0               3               0   \n",
       "4                 2.0               0               0               6   \n",
       "...               ...             ...             ...             ...   \n",
       "4151              0.0               0               0               1   \n",
       "4152              1.0               0               0               4   \n",
       "4153              1.0               0               0               4   \n",
       "4154              0.0               0               0               4   \n",
       "4155              0.0               0               0               6   \n",
       "\n",
       "      payment_type_3  payment_type_4  payment_type_5   age  bad_flag  \n",
       "0                  0               0               0  20.0         0  \n",
       "1                  5               0               0  19.0         0  \n",
       "2                  0               0               0  21.0         0  \n",
       "3                  0               0               0  33.0         0  \n",
       "4                  0               0               0  34.0         0  \n",
       "...              ...             ...             ...   ...       ...  \n",
       "4151               0               0               0  26.0         0  \n",
       "4152               0               0               0  38.0         1  \n",
       "4153               0               0               0  21.0         0  \n",
       "4154               0               0               0  35.0         0  \n",
       "4155               0               0               0  25.0         1  \n",
       "\n",
       "[4156 rows x 9 columns]"
      ]
     },
     "execution_count": 18,
     "metadata": {},
     "output_type": "execute_result"
    }
   ],
   "source": [
    "DS = DS.drop(['first_loan','loanKey', 'rep_loan_date', 'TraderKey','federal_district_nm','gender'],axis = 1)\n",
    "DS"
   ]
  },
  {
   "cell_type": "code",
   "execution_count": 19,
   "metadata": {},
   "outputs": [
    {
     "data": {
      "text/plain": [
       "(4156, 9)"
      ]
     },
     "execution_count": 19,
     "metadata": {},
     "output_type": "execute_result"
    }
   ],
   "source": [
    "DS.shape"
   ]
  },
  {
   "cell_type": "markdown",
   "metadata": {},
   "source": [
    "# 2. Разделение набора данных на обучающую и тестовую выборки. "
   ]
  },
  {
   "cell_type": "markdown",
   "metadata": {},
   "source": [
    "Машинное обучение по своему определнию представляет собой обучение выделению некоторых свойств выборки данных и их применение на новых данных. Поэтому, исходя из общепринятой практики оценки алгоритма в машинном обучении, на втором этапе работы над курсовой необходимо вручную разбить данные на два отдельных набора. Первый — обучающая выборка, на которой будут изучаться свойства данных, а второй — тестовая выборка, на которой выделенные свойства будут тестироваться."
   ]
  },
  {
   "cell_type": "markdown",
   "metadata": {},
   "source": [
    "В процессе разделения будет использован случайный метод, который к тому же работает по умолчанию. Прочие методы было решено не использовать в силу специфики задачи. "
   ]
  },
  {
   "cell_type": "markdown",
   "metadata": {},
   "source": [
    "Разделим набор данных на обучающую и тестовую выборки с помощью метода train_test_split, но сначала превратим дата-сет во фрейм данных и определим имена его столбцов:"
   ]
  },
  {
   "cell_type": "code",
   "execution_count": 20,
   "metadata": {},
   "outputs": [],
   "source": [
    "columns = \"payment_type_0 payment_type_1 payment_type_2 payment_type_3 payment_type_4 payment_type_5 age\".split() # объявляем имена столбцов для работы над выборками\n",
    "x = pd.DataFrame(DS, columns = columns)\n",
    "y = DS.bad_flag # определяем целевую перменную как \"y\""
   ]
  },
  {
   "cell_type": "markdown",
   "metadata": {},
   "source": [
    "Теперь мы можем использовать функцию train_test_split для разделения набора данных на обучающую и тестовую выборки.\n",
    "\n",
    "Пусть параметр test_size = 0,2 внутри функции указывает процент данных, которые должны быть сохранены для тестирования. \n",
    "Обычно это соотношения около 80/20 или 70/30. Разбиение данных на две этих выборки выглядит следующим образом:"
   ]
  },
  {
   "cell_type": "code",
   "execution_count": 21,
   "metadata": {},
   "outputs": [],
   "source": [
    "x_train, x_test, y_train, y_test = train_test_split(x, y, test_size = 0.2) "
   ]
  },
  {
   "cell_type": "code",
   "execution_count": 22,
   "metadata": {},
   "outputs": [
    {
     "data": {
      "text/plain": [
       "(3324, 7)"
      ]
     },
     "execution_count": 22,
     "metadata": {},
     "output_type": "execute_result"
    }
   ],
   "source": [
    "x_train.shape"
   ]
  },
  {
   "cell_type": "code",
   "execution_count": 23,
   "metadata": {},
   "outputs": [
    {
     "data": {
      "text/plain": [
       "(3324,)"
      ]
     },
     "execution_count": 23,
     "metadata": {},
     "output_type": "execute_result"
    }
   ],
   "source": [
    "y_train.shape"
   ]
  },
  {
   "cell_type": "code",
   "execution_count": 24,
   "metadata": {},
   "outputs": [
    {
     "data": {
      "text/plain": [
       "(832, 7)"
      ]
     },
     "execution_count": 24,
     "metadata": {},
     "output_type": "execute_result"
    }
   ],
   "source": [
    "x_test.shape"
   ]
  },
  {
   "cell_type": "code",
   "execution_count": 25,
   "metadata": {},
   "outputs": [
    {
     "data": {
      "text/plain": [
       "(832,)"
      ]
     },
     "execution_count": 25,
     "metadata": {},
     "output_type": "execute_result"
    }
   ],
   "source": [
    "y_test.shape"
   ]
  },
  {
   "cell_type": "code",
   "execution_count": 26,
   "metadata": {},
   "outputs": [
    {
     "data": {
      "text/plain": [
       "(4156, 9)"
      ]
     },
     "execution_count": 26,
     "metadata": {},
     "output_type": "execute_result"
    }
   ],
   "source": [
    "DS.shape"
   ]
  },
  {
   "cell_type": "markdown",
   "metadata": {},
   "source": [
    "# 3. Обучение нескольких моделей для решения выбранной задачи.\n",
    "## 3.1. Алгоритм наивного байесовского классификатора."
   ]
  },
  {
   "cell_type": "markdown",
   "metadata": {},
   "source": [
    "Первой моделью решения задачи выступит алгоритм наивного Байесовского классификатора. Он, к тому же, считается одним из самых простых алгоритмов классификации. При этом ему удаётся работать не хуже, а то и лучше некоторых более сложных алгоритмов.\n",
    "\n",
    "Здесь мы собираемся использовать модель GaussianNB, которая доступна в библиотеке Sckit-learn. Создание нашей наивной байесовской модели будет возможным с использованием метода GaussianNB():"
   ]
  },
  {
   "cell_type": "code",
   "execution_count": 27,
   "metadata": {},
   "outputs": [],
   "source": [
    "NBC = GaussianNB()\n",
    "NBC_2 = NBC.fit(x, y)"
   ]
  },
  {
   "cell_type": "markdown",
   "metadata": {},
   "source": [
    "Сделаем прогнозы на основе разделения данных на целевую переменную и прочие:"
   ]
  },
  {
   "cell_type": "code",
   "execution_count": 28,
   "metadata": {},
   "outputs": [],
   "source": [
    "expected_test = y_test\n",
    "predicted_test = NBC.predict(x_test)"
   ]
  },
  {
   "cell_type": "code",
   "execution_count": 29,
   "metadata": {},
   "outputs": [],
   "source": [
    "expected_train = y_train\n",
    "predicted_train = NBC.predict(x_train)"
   ]
  },
  {
   "cell_type": "markdown",
   "metadata": {},
   "source": [
    "Что касается получения точности и статистики, то теперь имеет смысл создать отчёт о классификации, который будет содержать различные статистические данные, необходимые для оценки модели. И перед переходом к анализу метрик необходимо будет ввести важную концепцию для описания этих метрик в терминах ошибок классификации, а именно — confusion matrix (матрицу ошибок), которая имеет следующий вид:"
   ]
  },
  {
   "cell_type": "markdown",
   "metadata": {},
   "source": [
    "![вид матрицы ошибок](https://sun9-24.userapi.com/BUpDzkAT__m1qptu5UFb6C60IAGpDND8ACsrfg/phRujTtXcwE.jpg \"вид матрицы ошибок\")"
   ]
  },
  {
   "cell_type": "markdown",
   "metadata": {},
   "source": [
    "Здесь ŷ — это ответ алгоритма на объекте, а y — истинная метка класса на этом объекте.\n",
    "Таким образом, ошибки классификации бывают двух видов: False Negative (FN) и False Positive (FP)."
   ]
  },
  {
   "cell_type": "markdown",
   "metadata": {},
   "source": [
    "#### Матрица ошибок для тестовой выборки:"
   ]
  },
  {
   "cell_type": "code",
   "execution_count": 30,
   "metadata": {},
   "outputs": [
    {
     "name": "stdout",
     "output_type": "stream",
     "text": [
      "[[746  11]\n",
      " [ 74   1]]\n"
     ]
    }
   ],
   "source": [
    "print(metrics.confusion_matrix(expected_test, predicted_test))"
   ]
  },
  {
   "cell_type": "markdown",
   "metadata": {},
   "source": [
    "#### Матрица ошибок для обучающей выборки:"
   ]
  },
  {
   "cell_type": "code",
   "execution_count": 31,
   "metadata": {},
   "outputs": [
    {
     "name": "stdout",
     "output_type": "stream",
     "text": [
      "[[2956   26]\n",
      " [ 339    3]]\n"
     ]
    }
   ],
   "source": [
    "print(metrics.confusion_matrix(expected_train, predicted_train))"
   ]
  },
  {
   "cell_type": "markdown",
   "metadata": {},
   "source": [
    "Интуитивно понятной, очевидной (и почти неиспользуемой) метрикой является accuracy — доля правильных ответов алгоритма.\n",
    "Для оценки качества работы алгоритма также введём метрики precision (точность) и recall (полнота). Precision можно интерпретировать как долю объектов, названных классификатором положительными и при этом действительно являющимися положительными, а recall показывает, какую долю объектов положительного класса из всех объектов положительного класса нашел алгоритм."
   ]
  },
  {
   "cell_type": "markdown",
   "metadata": {},
   "source": [
    "#### Классификационный отчет для тестовой выборки:"
   ]
  },
  {
   "cell_type": "code",
   "execution_count": 130,
   "metadata": {
    "scrolled": false
   },
   "outputs": [
    {
     "name": "stdout",
     "output_type": "stream",
     "text": [
      "              precision    recall  f1-score   support\n",
      "\n",
      "           0       0.91      0.99      0.95       757\n",
      "           1       0.17      0.03      0.05        75\n",
      "\n",
      "    accuracy                           0.90       832\n",
      "   macro avg       0.54      0.51      0.50       832\n",
      "weighted avg       0.84      0.90      0.87       832\n",
      "\n"
     ]
    }
   ],
   "source": [
    "print(metrics.classification_report(expected_test, predicted_test))"
   ]
  },
  {
   "cell_type": "markdown",
   "metadata": {},
   "source": [
    "#### Классификационный отчет для обучающей выборки:"
   ]
  },
  {
   "cell_type": "code",
   "execution_count": 131,
   "metadata": {},
   "outputs": [
    {
     "name": "stdout",
     "output_type": "stream",
     "text": [
      "              precision    recall  f1-score   support\n",
      "\n",
      "           0       0.90      0.99      0.94      2982\n",
      "           1       0.07      0.01      0.01       342\n",
      "\n",
      "    accuracy                           0.89      3324\n",
      "   macro avg       0.48      0.50      0.48      3324\n",
      "weighted avg       0.81      0.89      0.85      3324\n",
      "\n"
     ]
    }
   ],
   "source": [
    "print(metrics.classification_report(expected_train, predicted_train))"
   ]
  },
  {
   "cell_type": "markdown",
   "metadata": {},
   "source": [
    "####  Оценка точности на тестовой выборке:"
   ]
  },
  {
   "cell_type": "code",
   "execution_count": 132,
   "metadata": {},
   "outputs": [
    {
     "data": {
      "text/plain": [
       "0.9002403846153846"
      ]
     },
     "metadata": {},
     "output_type": "display_data"
    }
   ],
   "source": [
    "NBC_score_test = display(NBC.score(x_test, y_test))"
   ]
  },
  {
   "cell_type": "markdown",
   "metadata": {},
   "source": [
    "#### Оценка точности на обучающей выборке:"
   ]
  },
  {
   "cell_type": "code",
   "execution_count": 133,
   "metadata": {},
   "outputs": [
    {
     "data": {
      "text/plain": [
       "0.8895908543922985"
      ]
     },
     "metadata": {},
     "output_type": "display_data"
    }
   ],
   "source": [
    "NBC_score_train =display(NBC.score(x_train, y_train))"
   ]
  },
  {
   "cell_type": "markdown",
   "metadata": {},
   "source": [
    "## 3.2. Алгоритм итеративного дихотомизатора (ID3)."
   ]
  },
  {
   "cell_type": "markdown",
   "metadata": {},
   "source": [
    "Алгоритм итеративного дихотомизатора является одним из самых популярных алгоритмов, подразумевающих собой построение дерева решений. В данных методах сначала строится модель решений, которые принимаются на основе фактических значений атрибутов в данных. Решения распадаются на древовидные структуры до тех пор, пока не будет принято прогнозирующее решение для данной записи. Деревья решений обучаются на данных для задач классификации и регрессии. Деревья решений часто бывают быстрыми и точными и пользуются большой популярностью в машинном обучении."
   ]
  },
  {
   "cell_type": "code",
   "execution_count": 30,
   "metadata": {},
   "outputs": [],
   "source": [
    "x_train, x_test, y_train, y_test = train_test_split(x, y, test_size = 0.2)\n",
    "ID3 = DecisionTreeClassifier()\n",
    "ID3_fit = ID3.fit(x_train, y_train)\n",
    "\n",
    "def tn(y_true, y_pred): return confusion_matrix(y_true, y_pred)[0, 0] # true_negative\n",
    "def fp(y_true, y_pred): return confusion_matrix(y_true, y_pred)[0, 1] # false_positive\n",
    "def fn(y_true, y_pred): return confusion_matrix(y_true, y_pred)[1, 0] # false_negative\n",
    "def tp(y_true, y_pred): return confusion_matrix(y_true, y_pred)[1, 1] # true_positive\n",
    "\n",
    "scoring = {\n",
    "    'tp' : make_scorer(tp), \n",
    "    'tn' : make_scorer(tn), \n",
    "    'fp' : make_scorer(fp), \n",
    "    'fn' : make_scorer(fn), \n",
    "    'accuracy' : make_scorer(accuracy_score),\n",
    "    'precision': make_scorer(precision_score),\n",
    "    'f1_score' : make_scorer(f1_score),\n",
    "    'recall'   : make_scorer(recall_score)\n",
    "}\n",
    "\n",
    "sc = cross_validate(ID3_fit, x_train, y_train, cv = 5, scoring = scoring)"
   ]
  },
  {
   "cell_type": "code",
   "execution_count": 31,
   "metadata": {},
   "outputs": [],
   "source": [
    "expected_test_1 = y_test\n",
    "predicted_test_1 = ID3_fit.predict(x_test)"
   ]
  },
  {
   "cell_type": "code",
   "execution_count": 32,
   "metadata": {},
   "outputs": [],
   "source": [
    "expected_train_1 = y_train\n",
    "predicted_train_1 = ID3_fit.predict(x_train)"
   ]
  },
  {
   "cell_type": "markdown",
   "metadata": {},
   "source": [
    "#### Матрица ошибок для тестовой выборки:"
   ]
  },
  {
   "cell_type": "code",
   "execution_count": 35,
   "metadata": {},
   "outputs": [
    {
     "name": "stdout",
     "output_type": "stream",
     "text": [
      "[[718  30]\n",
      " [ 79   5]]\n"
     ]
    }
   ],
   "source": [
    "print(metrics.confusion_matrix(expected_test_1, predicted_test_1))"
   ]
  },
  {
   "cell_type": "markdown",
   "metadata": {},
   "source": [
    "#### Матрица ошибок для обучающей выборки:"
   ]
  },
  {
   "cell_type": "code",
   "execution_count": 36,
   "metadata": {},
   "outputs": [
    {
     "name": "stdout",
     "output_type": "stream",
     "text": [
      "[[2982    9]\n",
      " [ 233  100]]\n"
     ]
    }
   ],
   "source": [
    "print(metrics.confusion_matrix(expected_train_1, predicted_train_1))"
   ]
  },
  {
   "cell_type": "markdown",
   "metadata": {},
   "source": [
    "#### Классификационный отчет для тестовой выборки:"
   ]
  },
  {
   "cell_type": "code",
   "execution_count": 139,
   "metadata": {
    "scrolled": true
   },
   "outputs": [
    {
     "name": "stdout",
     "output_type": "stream",
     "text": [
      "              precision    recall  f1-score   support\n",
      "\n",
      "           0       0.89      0.97      0.93       739\n",
      "           1       0.23      0.08      0.11        93\n",
      "\n",
      "    accuracy                           0.87       832\n",
      "   macro avg       0.56      0.52      0.52       832\n",
      "weighted avg       0.82      0.87      0.84       832\n",
      "\n"
     ]
    }
   ],
   "source": [
    "print(metrics.classification_report(expected_test_1, predicted_test_1))"
   ]
  },
  {
   "cell_type": "markdown",
   "metadata": {},
   "source": [
    "#### Классификационный отчет для обучающей выборки:"
   ]
  },
  {
   "cell_type": "code",
   "execution_count": 140,
   "metadata": {},
   "outputs": [
    {
     "name": "stdout",
     "output_type": "stream",
     "text": [
      "              precision    recall  f1-score   support\n",
      "\n",
      "           0       0.93      1.00      0.96      3000\n",
      "           1       0.88      0.30      0.45       324\n",
      "\n",
      "    accuracy                           0.93      3324\n",
      "   macro avg       0.91      0.65      0.71      3324\n",
      "weighted avg       0.93      0.93      0.91      3324\n",
      "\n"
     ]
    }
   ],
   "source": [
    "print(metrics.classification_report(expected_train_1, predicted_train_1))"
   ]
  },
  {
   "cell_type": "markdown",
   "metadata": {},
   "source": [
    "####  Оценка точности на тестовой выборке:"
   ]
  },
  {
   "cell_type": "code",
   "execution_count": 141,
   "metadata": {},
   "outputs": [
    {
     "data": {
      "text/plain": [
       "0.8689903846153846"
      ]
     },
     "metadata": {},
     "output_type": "display_data"
    }
   ],
   "source": [
    "ID3_score_test = display(ID3.score(x_test, y_test))"
   ]
  },
  {
   "cell_type": "markdown",
   "metadata": {},
   "source": [
    "####  Оценка точности на обучающей выборке:"
   ]
  },
  {
   "cell_type": "code",
   "execution_count": 142,
   "metadata": {},
   "outputs": [
    {
     "data": {
      "text/plain": [
       "0.9280986762936222"
      ]
     },
     "metadata": {},
     "output_type": "display_data"
    }
   ],
   "source": [
    "ID3_score_train = display(ID3.score(x_train, y_train))"
   ]
  },
  {
   "cell_type": "markdown",
   "metadata": {},
   "source": [
    "# 4. Выбор наиболее перспективной модели для решения поставленной задачи. "
   ]
  },
  {
   "cell_type": "markdown",
   "metadata": {},
   "source": [
    "Наиболее перспективной моделью для решения поставленной задачи по машинному обучению выявления подзрительных финансовых транзакций был выбран алгоритм наивного байесовского классификатора, поскольку по результатам, описанным в классификационных отчётах по тестовым и обучающим выборкам, тот показал более уверенные проценты в оценке точности, нежели алгоритм ID3. Точность между обучающей и тестовой выборкой в нём разнится примерно на 1%, в то время как точность по итеративному дихотомизатору отличается почти на 6%."
   ]
  },
  {
   "cell_type": "markdown",
   "metadata": {},
   "source": [
    "## 4.1. Поиск оптимальных гиперпараметров."
   ]
  },
  {
   "cell_type": "markdown",
   "metadata": {},
   "source": [
    "В машинном обучении гиперпараметрами называют параметры алгоритмов, значения которых устанавливаются перед запуском процесса обучения. В этом смысле они и отличаются от обычных параметров, вычисляемых в процессе обучения. Гиперпараметры используются для управления процессом обучения.\n",
    "\n",
    "Один из способов настройки гиперпараметров состоит в том, чтобы заставить компьютер попробовать все возможные комбинации значений параметров. Для этого используем модуль GridSearchCV из библиотеки Scikit Learn. Попытаемся найти наилучшую комбинацию гиперпараметров (C, Gamma и Kernel) для построения классификатора для нашего набора данных."
   ]
  },
  {
   "cell_type": "markdown",
   "metadata": {},
   "source": [
    "Первым делом найдём такие гиперпараметры, как kernel, gamma и C."
   ]
  },
  {
   "cell_type": "markdown",
   "metadata": {},
   "source": [
    "#### GridSearch:"
   ]
  },
  {
   "cell_type": "code",
   "execution_count": 45,
   "metadata": {},
   "outputs": [
    {
     "name": "stdout",
     "output_type": "stream",
     "text": [
      "Оптимальные гиперпараметры:\n",
      "{'C': 100, 'gamma': 0.0001, 'kernel': 'sigmoid'}\n",
      "Grid-метрики:\n",
      "0.447 for {'C': 1, 'gamma': 0.001, 'kernel': 'rbf'}\n",
      "0.454 for {'C': 1, 'gamma': 0.001, 'kernel': 'sigmoid'}\n",
      "0.447 for {'C': 1, 'gamma': 0.001, 'kernel': 'linear'}\n",
      "0.447 for {'C': 1, 'gamma': 0.0001, 'kernel': 'rbf'}\n",
      "0.447 for {'C': 1, 'gamma': 0.0001, 'kernel': 'sigmoid'}\n",
      "0.447 for {'C': 1, 'gamma': 0.0001, 'kernel': 'linear'}\n",
      "0.447 for {'C': 1, 'gamma': 0.01, 'kernel': 'rbf'}\n",
      "0.447 for {'C': 1, 'gamma': 0.01, 'kernel': 'sigmoid'}\n",
      "0.447 for {'C': 1, 'gamma': 0.01, 'kernel': 'linear'}\n",
      "0.447 for {'C': 10, 'gamma': 0.001, 'kernel': 'rbf'}\n",
      "0.451 for {'C': 10, 'gamma': 0.001, 'kernel': 'sigmoid'}\n",
      "0.447 for {'C': 10, 'gamma': 0.001, 'kernel': 'linear'}\n",
      "0.447 for {'C': 10, 'gamma': 0.0001, 'kernel': 'rbf'}\n",
      "0.447 for {'C': 10, 'gamma': 0.0001, 'kernel': 'sigmoid'}\n",
      "0.447 for {'C': 10, 'gamma': 0.0001, 'kernel': 'linear'}\n",
      "0.446 for {'C': 10, 'gamma': 0.01, 'kernel': 'rbf'}\n",
      "0.447 for {'C': 10, 'gamma': 0.01, 'kernel': 'sigmoid'}\n",
      "0.447 for {'C': 10, 'gamma': 0.01, 'kernel': 'linear'}\n",
      "0.446 for {'C': 100, 'gamma': 0.001, 'kernel': 'rbf'}\n",
      "0.477 for {'C': 100, 'gamma': 0.001, 'kernel': 'sigmoid'}\n",
      "0.447 for {'C': 100, 'gamma': 0.001, 'kernel': 'linear'}\n",
      "0.447 for {'C': 100, 'gamma': 0.0001, 'kernel': 'rbf'}\n",
      "0.612 for {'C': 100, 'gamma': 0.0001, 'kernel': 'sigmoid'}\n",
      "0.447 for {'C': 100, 'gamma': 0.0001, 'kernel': 'linear'}\n",
      "0.548 for {'C': 100, 'gamma': 0.01, 'kernel': 'rbf'}\n",
      "0.558 for {'C': 100, 'gamma': 0.01, 'kernel': 'sigmoid'}\n",
      "0.447 for {'C': 100, 'gamma': 0.01, 'kernel': 'linear'}\n",
      "0.446 for {'C': 1000, 'gamma': 0.001, 'kernel': 'rbf'}\n",
      "0.499 for {'C': 1000, 'gamma': 0.001, 'kernel': 'sigmoid'}\n",
      "0.447 for {'C': 1000, 'gamma': 0.001, 'kernel': 'linear'}\n",
      "0.447 for {'C': 1000, 'gamma': 0.0001, 'kernel': 'rbf'}\n",
      "0.594 for {'C': 1000, 'gamma': 0.0001, 'kernel': 'sigmoid'}\n",
      "0.447 for {'C': 1000, 'gamma': 0.0001, 'kernel': 'linear'}\n",
      "0.576 for {'C': 1000, 'gamma': 0.01, 'kernel': 'rbf'}\n",
      "0.535 for {'C': 1000, 'gamma': 0.01, 'kernel': 'sigmoid'}\n",
      "0.447 for {'C': 1000, 'gamma': 0.01, 'kernel': 'linear'}\n"
     ]
    }
   ],
   "source": [
    "warnings.filterwarnings(\"ignore\")\n",
    "\n",
    "x_train, x_test, y_train, y_test = train_test_split(x, y, test_size = 0.2) \n",
    "tuned_parameters = [{'kernel': ['rbf','sigmoid', 'linear'], 'gamma': [1e-3, 1e-4, 1e-2], 'C': [1, 10, 100, 1000]}]\n",
    "scores = ['precision']\n",
    "\n",
    "clf = GridSearchCV(SVC(), tuned_parameters, cv = 5, scoring = '%s_macro' % scores[0])\n",
    "clf.fit(x_test, y_test)\n",
    "\n",
    "print(\"Оптимальные гиперпараметры:\")\n",
    "print(clf.best_params_)\n",
    "\n",
    "print(\"Grid-метрики:\")\n",
    "means = clf.cv_results_['mean_test_score']\n",
    "for mean,params in zip(means, clf.cv_results_['params']):\n",
    "    print(\"%0.3f for %r\" % (mean, params))"
   ]
  },
  {
   "cell_type": "markdown",
   "metadata": {},
   "source": [
    "Приведенный выше код перебирает силу и пробует каждую возможную комбинацию этих трех гиперпараметров, а затем выводит наилучшую комбинацию."
   ]
  },
  {
   "cell_type": "markdown",
   "metadata": {},
   "source": [
    "Также можем опробовать случайный поиск. Как следует из названия, он будет пытаться случайным образом выбрать заранее определенное количество комбинаций гиперпараметров, которые дадут некоторое представление о том, какие из них будут оптимальными."
   ]
  },
  {
   "cell_type": "markdown",
   "metadata": {},
   "source": [
    "Теперь поищем гиперпараметры max_depth, min_samples_split, criterion и bootstrap."
   ]
  },
  {
   "cell_type": "markdown",
   "metadata": {},
   "source": [
    "#### Случайный поиск:"
   ]
  },
  {
   "cell_type": "code",
   "execution_count": 46,
   "metadata": {},
   "outputs": [
    {
     "name": "stdout",
     "output_type": "stream",
     "text": [
      "RandomizedSearchCV потребовалось 1.31 секунд для вывода 10 параметров.\n",
      "0.892 (+/-0.001) for {'bootstrap': True, 'criterion': 'entropy', 'max_depth': 4, 'min_samples_split': 3}\n",
      "0.893 (+/-0.005) for {'bootstrap': False, 'criterion': 'gini', 'max_depth': 3, 'min_samples_split': 2}\n",
      "0.892 (+/-0.001) for {'bootstrap': False, 'criterion': 'entropy', 'max_depth': 2, 'min_samples_split': 5}\n",
      "0.889 (+/-0.009) for {'bootstrap': False, 'criterion': 'gini', 'max_depth': 4, 'min_samples_split': 3}\n",
      "0.891 (+/-0.004) for {'bootstrap': True, 'criterion': 'gini', 'max_depth': 4, 'min_samples_split': 5}\n",
      "0.892 (+/-0.001) for {'bootstrap': True, 'criterion': 'gini', 'max_depth': 3, 'min_samples_split': 4}\n",
      "0.892 (+/-0.001) for {'bootstrap': True, 'criterion': 'entropy', 'max_depth': 3, 'min_samples_split': 7}\n",
      "0.892 (+/-0.001) for {'bootstrap': True, 'criterion': 'entropy', 'max_depth': 3, 'min_samples_split': 4}\n",
      "0.893 (+/-0.005) for {'bootstrap': True, 'criterion': 'gini', 'max_depth': 4, 'min_samples_split': 2}\n",
      "0.892 (+/-0.001) for {'bootstrap': False, 'criterion': 'entropy', 'max_depth': 2, 'min_samples_split': 7}\n"
     ]
    }
   ],
   "source": [
    "rfc = RandomForestClassifier(n_estimators = 20)\n",
    "x_train, x_test, y_train, y_test = train_test_split(x, y, test_size = 0.2)\n",
    "\n",
    "hp = {\"max_depth\": [4, 3, 2],\n",
    "              \"min_samples_split\": sp_randint(2, 11),\n",
    "              \"criterion\": [\"gini\", \"entropy\"],\n",
    "              \"bootstrap\": [True, False]\n",
    "              }\n",
    "\n",
    "n_iter_search = 10\n",
    "random_search = RandomizedSearchCV(rfc, param_distributions = hp, n_iter = n_iter_search, cv = 5, iid = False)\n",
    "\n",
    "start = time()\n",
    "random_search.fit(x_test, y_test) \n",
    "print(\"RandomizedSearchCV потребовалось %.2f секунд для вывода %d\"\n",
    "      \" параметров.\" % ((time() - start), n_iter_search))\n",
    "means = random_search.cv_results_['mean_test_score']\n",
    "stds = random_search.cv_results_['std_test_score']\n",
    "for mean, std, params in zip(means, stds, random_search.cv_results_['params']):\n",
    "    print(\"%0.3f (+/-%0.03f) for %r\" % (mean, std * 2, params))"
   ]
  },
  {
   "cell_type": "markdown",
   "metadata": {},
   "source": [
    "# 5. Сравнение результатов."
   ]
  },
  {
   "cell_type": "markdown",
   "metadata": {},
   "source": [
    "Ещё раз убедимся в том, что оценки точности по алгоритму ID3 различаются на довольно существенные ~6%, чего не скажешь о разнице оценок по алгоритму наивного байесовского классификатора."
   ]
  },
  {
   "cell_type": "code",
   "execution_count": 144,
   "metadata": {},
   "outputs": [
    {
     "name": "stdout",
     "output_type": "stream",
     "text": [
      "Разница в оценках точности выборок по алгоритму NBC: 1.0649530223086123 %\n",
      "Разница в оценках точности выборок по алгоритму ID3: 5.910829167823762 %\n"
     ]
    }
   ],
   "source": [
    "print ('Разница в оценках точности выборок по алгоритму NBC:',(0.9002403846153846 - 0.8895908543922985)*100,'%')\n",
    "print ('Разница в оценках точности выборок по алгоритму ID3:',(0.9280986762936222 - 0.8689903846153846)*100,'%')"
   ]
  },
  {
   "cell_type": "markdown",
   "metadata": {},
   "source": [
    "Что касается сравнения работы двух методов поиска гиперпараметров, то здесь можно выделить положительные и отрицательные стороны для них обоих.\n",
    "\n",
    "<b> Метод GridSearch: </b>\n",
    "\n",
    "ПЛЮСЫ: Этот метод получит требуемые оптимальные гиперпараметры.\n",
    "\n",
    "МИНУСЫ: Является самой затратной по времени на обработку операцией, что значительно замедляет процесс, например, экспресс-проверки работы алгоритма, занимая несколько минут и не давая запущенным после себя операциям выводить свои результаты на экран. \n",
    "\n",
    "\n",
    "<b> Метод случайного поиска: </b>\n",
    "\n",
    "ПЛЮСЫ: Гораздо быстрее, чем метод Grid Search.\n",
    "\n",
    "МИНУСЫ: Может не возвращать оптимальную комбинацию гиперпараметров, которая вернула бы лучшую точность. Он также не учитывает прошлые оценки и продолжает итерации вне зависимости от результатов."
   ]
  },
  {
   "cell_type": "markdown",
   "metadata": {},
   "source": [
    "# 6. Представление результатов моделирования с использованием визуализации."
   ]
  },
  {
   "cell_type": "markdown",
   "metadata": {},
   "source": [
    "### 1. Корреляционная матрица:"
   ]
  },
  {
   "cell_type": "code",
   "execution_count": 39,
   "metadata": {},
   "outputs": [],
   "source": [
    "def plotCorrelationMatrix(DS, graphWidth):\n",
    "    filename = 'fraud.csv'\n",
    "    DS = DS.dropna('columns') \n",
    "    DS = DS[[col for col in DS if DS[col].nunique() > 1]] \n",
    "    if DS.shape[1] < 2:\n",
    "        print(f'Не удалось вывести график: количество не-NaN или столбцов-констатант ({DS.shape[1]}) менее 2')\n",
    "        return\n",
    "    corr = DS.corr()\n",
    "    plt.figure(num=None, figsize=(graphWidth, graphWidth), dpi=80, facecolor='w', edgecolor='k')\n",
    "    corrMat = plt.matshow(corr, fignum = 1)\n",
    "    plt.xticks(range(len(corr.columns)), corr.columns, rotation=90)\n",
    "    plt.yticks(range(len(corr.columns)), corr.columns)\n",
    "    plt.gca().xaxis.tick_bottom()\n",
    "    plt.colorbar(corrMat)\n",
    "    plt.title(f'Корреляционная матрица для дата-сета {filename}', fontsize=15)\n",
    "    plt.show()"
   ]
  },
  {
   "cell_type": "code",
   "execution_count": 40,
   "metadata": {
    "scrolled": true
   },
   "outputs": [
    {
     "data": {
      "image/png": "[encoded data removed]",
      "text/plain": [
       "<Figure size 640x640 with 2 Axes>"
      ]
     },
     "metadata": {},
     "output_type": "display_data"
    }
   ],
   "source": [
    "plotCorrelationMatrix(DS, 8)"
   ]
  },
  {
   "cell_type": "markdown",
   "metadata": {},
   "source": [
    "### 2. Точечные графики плотности:"
   ]
  },
  {
   "cell_type": "code",
   "execution_count": 37,
   "metadata": {},
   "outputs": [],
   "source": [
    "def plotScatterMatrix(DS, plotSize, textSize):\n",
    "    DS = DS.select_dtypes(include =[np.number]) \n",
    "    DS = DS.dropna('columns')\n",
    "    DS = DS[[col for col in DS if DS[col].nunique() > 1]] \n",
    "    columnNames = list(DS)\n",
    "    if len(columnNames) > 10: \n",
    "        columnNames = columnNames[:10]\n",
    "    DS = DS[columnNames]\n",
    "    ax = pd.plotting.scatter_matrix(DS, alpha=0.75, figsize=[plotSize, plotSize], diagonal='kde')\n",
    "    corrs = DS.corr().values\n",
    "    for i, j in zip(*plt.np.triu_indices_from(ax, k = 1)):\n",
    "        ax[i, j].annotate('Коэф. корр. = %.3f' % corrs[i, j], (0.8, 0.2), xycoords='axes fraction', ha='center', va='center', size=textSize)\n",
    "    plt.suptitle('Точечные графики плотности')\n",
    "    plt.show()"
   ]
  },
  {
   "cell_type": "code",
   "execution_count": 38,
   "metadata": {
    "scrolled": true
   },
   "outputs": [
    {
     "data": {
      "image/png": "[encoded data removed]",
      "text/plain": [
       "<Figure size 1440x1440 with 49 Axes>"
      ]
     },
     "metadata": {
      "needs_background": "light"
     },
     "output_type": "display_data"
    }
   ],
   "source": [
    "plotScatterMatrix(DS, 20, 10)"
   ]
  },
  {
   "cell_type": "markdown",
   "metadata": {},
   "source": [
    "### 3. Box-plot:"
   ]
  },
  {
   "cell_type": "markdown",
   "metadata": {},
   "source": [
    "На приведённой ниже диаграмме видно, что основной возраст людей в дата-сете сконцентрирован в интервале с 26 по 42."
   ]
  },
  {
   "cell_type": "code",
   "execution_count": 51,
   "metadata": {
    "scrolled": true
   },
   "outputs": [
    {
     "data": {
      "text/plain": [
       "<matplotlib.axes._subplots.AxesSubplot at 0xcde2ca5148>"
      ]
     },
     "execution_count": 51,
     "metadata": {},
     "output_type": "execute_result"
    },
    {
     "data": {
      "image/png": "[encoded data removed]",
      "text/plain": [
       "<Figure size 432x288 with 1 Axes>"
      ]
     },
     "metadata": {
      "needs_background": "light"
     },
     "output_type": "display_data"
    }
   ],
   "source": [
    "sns.boxplot(x = 'age', data = DS)"
   ]
  },
  {
   "cell_type": "markdown",
   "metadata": {},
   "source": [
    "Распределение обучающей выборки (х):"
   ]
  },
  {
   "cell_type": "code",
   "execution_count": 52,
   "metadata": {
    "scrolled": true
   },
   "outputs": [
    {
     "data": {
      "text/plain": [
       "<matplotlib.axes._subplots.AxesSubplot at 0xcde2a46388>"
      ]
     },
     "execution_count": 52,
     "metadata": {},
     "output_type": "execute_result"
    },
    {
     "data": {
      "image/png": "[encoded data removed]",
      "text/plain": [
       "<Figure size 432x288 with 1 Axes>"
      ]
     },
     "metadata": {
      "needs_background": "light"
     },
     "output_type": "display_data"
    }
   ],
   "source": [
    "sns.boxplot(x = x_train, data = DS)"
   ]
  },
  {
   "cell_type": "markdown",
   "metadata": {},
   "source": [
    "Распределение тестовой выборки (х):"
   ]
  },
  {
   "cell_type": "code",
   "execution_count": 53,
   "metadata": {
    "scrolled": true
   },
   "outputs": [
    {
     "data": {
      "text/plain": [
       "<matplotlib.axes._subplots.AxesSubplot at 0xcde2a9b448>"
      ]
     },
     "execution_count": 53,
     "metadata": {},
     "output_type": "execute_result"
    },
    {
     "data": {
      "image/png": "[encoded data removed]",
      "text/plain": [
       "<Figure size 432x288 with 1 Axes>"
      ]
     },
     "metadata": {
      "needs_background": "light"
     },
     "output_type": "display_data"
    }
   ],
   "source": [
    "sns.boxplot(x = x_test, data = DS)"
   ]
  },
  {
   "cell_type": "markdown",
   "metadata": {},
   "source": [
    "Судя по данной ящичковой диаграмме, становится понятно, что чаще всего \"подозрительные\" транзакции исходят от клиентов в возрасте от 23 до 28 лет, а самая законопослушная и неподозрительная прослойка населения (в рамках данного дата-сета) начинается с 38 лет."
   ]
  },
  {
   "cell_type": "code",
   "execution_count": 67,
   "metadata": {
    "scrolled": false
   },
   "outputs": [
    {
     "data": {
      "text/plain": [
       "<matplotlib.axes._subplots.AxesSubplot at 0xcde2289048>"
      ]
     },
     "execution_count": 67,
     "metadata": {},
     "output_type": "execute_result"
    },
    {
     "data": {
      "image/png": "[encoded data removed]",
      "text/plain": [
       "<Figure size 432x288 with 1 Axes>"
      ]
     },
     "metadata": {
      "needs_background": "light"
     },
     "output_type": "display_data"
    }
   ],
   "source": [
    "sns.boxplot(x='bad_flag', y = 'age', data=DS)"
   ]
  },
  {
   "cell_type": "markdown",
   "metadata": {},
   "source": [
    "Та же диаграмма, но в альтернативном виде:"
   ]
  },
  {
   "cell_type": "code",
   "execution_count": 48,
   "metadata": {},
   "outputs": [
    {
     "data": {
      "image/png": "[encoded data removed]",
      "text/plain": [
       "<Figure size 432x288 with 1 Axes>"
      ]
     },
     "metadata": {
      "needs_background": "light"
     },
     "output_type": "display_data"
    }
   ],
   "source": [
    "sns.violinplot(x = 'bad_flag', y = 'age', data=DS, split=True);"
   ]
  },
  {
   "cell_type": "markdown",
   "metadata": {},
   "source": [
    "### 4. Гистограммы:"
   ]
  },
  {
   "cell_type": "code",
   "execution_count": 55,
   "metadata": {
    "scrolled": false
   },
   "outputs": [
    {
     "data": {
      "text/plain": [
       "<matplotlib.axes._subplots.AxesSubplot at 0xcde2b89e48>"
      ]
     },
     "execution_count": 55,
     "metadata": {},
     "output_type": "execute_result"
    },
    {
     "data": {
      "image/png": "[encoded data removed]",
      "text/plain": [
       "<Figure size 432x288 with 1 Axes>"
      ]
     },
     "metadata": {
      "needs_background": "light"
     },
     "output_type": "display_data"
    }
   ],
   "source": [
    "DS['bad_flag'].hist()"
   ]
  },
  {
   "cell_type": "code",
   "execution_count": 56,
   "metadata": {
    "scrolled": false
   },
   "outputs": [
    {
     "data": {
      "text/plain": [
       "<matplotlib.axes._subplots.AxesSubplot at 0xcde2bc1708>"
      ]
     },
     "execution_count": 56,
     "metadata": {},
     "output_type": "execute_result"
    },
    {
     "data": {
      "image/png": "[encoded data removed]",
      "text/plain": [
       "<Figure size 432x288 with 1 Axes>"
      ]
     },
     "metadata": {
      "needs_background": "light"
     },
     "output_type": "display_data"
    }
   ],
   "source": [
    "DS['age'].hist()"
   ]
  },
  {
   "cell_type": "markdown",
   "metadata": {},
   "source": [
    "# 7. Заключение."
   ]
  },
  {
   "cell_type": "markdown",
   "metadata": {},
   "source": [
    "Подводя итоги, стоит сказать, что машинное обучение в задачах верификации финансовых транзакций – довольно сложный процесс, требующий не только навыков программирования, но и профессионального подхода к сфере самих финансовых транзакций. Необходимо понимать, на какие атрибуты нужно в первую очередь обратить внимание, чтобы суметь впоследствии грамотно и чётко спрогнозировать тот или иной признак.  В ходе работы был задействован дата-сет с реальными данными по теме, произведена его подробная опись и сопутствующий анализ; осуществлено биение данных на обучающую и тестовую выборки с использованием множества вспомогательных модулей из библиотеки SkLearn, которая во многом облегчила процесс машинного обучения и в целом была очень полезным инструментом в ходе работы над курсовой. В рамках машинного обучения и поиска гиперпараметров были задействованы 4 алгоритма: наивный байесовский классификатор, ID3, а также опорные вектора и случайный лес.  Поиск гиперпараметров осуществлялся при помощи таких методов, как «GridSearch» и «случайный поиск». Для каждой из выборок были составлены матрицы ошибок и классификационные отчёты, содержащие в себе основополагающие метрики, оценивающие качество проводимого обучения. В конечном итоге было представлено сравнение результатов оценок работы алгоритмов, а также различные графики и диаграммы, позволяющие наглядно оценить итоги проведенного обучения. Что касается перспектив решения проблемы выявления «подозрительных транзакций», то я думаю, что в таких случаях необходима целая команда программистов и финансовых аналитиков, способная к совместной работе над усовершенствованием уже существующих систем и поддержанием их качественного и бесперебойного функционирования."
   ]
  },
  {
   "cell_type": "markdown",
   "metadata": {},
   "source": [
    "# Список литературы и использумых источников:"
   ]
  },
  {
   "cell_type": "raw",
   "metadata": {},
   "source": [
    "Интернет-ресурсы:\n",
    "● https://www.machinelearningmastery.ru/3-different-ways-to-tune-hyperparameters-interactive-python-code-87548d7f2365/\n",
    "● https://habr.com/ru/company/ruvds/blog/488342/\n",
    "● https://wiki.loginom.ru/articles/hyperparameters.html\n",
    "● https://docs.exponenta.ru/stats/hyperparameter-optimization-in-classification-learner-app.html\n",
    "\n",
    "Основная литература:\n",
    "● М.В. Коротеев. Об основных задачах дескриптивного анализа данных. \n",
    "● М.В. Коротеев. Учебное пособие по дисциплине “Анализ данных и машинное обучение” - 2018. \n",
    "\n",
    "Дополнительная литература:\n",
    "● L.P. Coelho, W. Richert. Building machine learning systems with Python - 2015 (326p) \n",
    "● J. Grus. Data science from scratch - 2015 (330p) \n",
    "● W. McKiney. Pandas: powerful Python data analysis toolkit - 2016 (1971p)"
   ]
  }
 ],
 "metadata": {
  "kernelspec": {
   "display_name": "Python 3",
   "language": "python",
   "name": "python3"
  },
  "language_info": {
   "codemirror_mode": {
    "name": "ipython",
    "version": 3
   },
   "file_extension": ".py",
   "mimetype": "text/x-python",
   "name": "python",
   "nbconvert_exporter": "python",
   "pygments_lexer": "ipython3",
   "version": "3.7.4"
  }
 },
 "nbformat": 4,
 "nbformat_minor": 2
}
